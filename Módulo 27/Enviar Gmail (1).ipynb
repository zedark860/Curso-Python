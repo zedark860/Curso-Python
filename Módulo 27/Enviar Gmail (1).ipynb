{
 "cells": [
  {
   "cell_type": "code",
   "execution_count": 13,
   "metadata": {},
   "outputs": [],
   "source": [
    "import smtplib\n",
    "import email.message\n",
    "\n",
    "def enviar_email():  \n",
    "    corpo_email = \"\"\"\n",
    "    <html>\n",
    "    <head>\n",
    "        <style>\n",
    "            body {\n",
    "                font-family: Arial, sans-serif;\n",
    "                background-color: #f4f4f4;\n",
    "                margin: 0;\n",
    "                padding: 20px;\n",
    "            }\n",
    "            h1 {\n",
    "                color: #333;\n",
    "            }\n",
    "            p {\n",
    "                color: #555;\n",
    "            }\n",
    "        </style>\n",
    "    </head>\n",
    "    <body>\n",
    "        <h1>Teste de E-mail</h1>\n",
    "        <p>Olá,</p>\n",
    "        <p>Este é um exemplo de e-mail com formatação HTML.</p>\n",
    "        <p>Parágrafo1</p>\n",
    "        <p>Parágrafo2</p>\n",
    "        <p>Obrigado!</p>\n",
    "    </body>\n",
    "    </html>\n",
    "    \"\"\"\n",
    "\n",
    "    msg = email.message.Message()\n",
    "    msg['Subject'] = \"Um teste de envio de e-mail\"\n",
    "    msg['From'] = ''  # Substitua pelo seu endereço de e-mail do Outlook\n",
    "    msg['To'] = '' # Substitua pelo e-mail do destinatário\n",
    "    password = ''  # Substitua pela sua senha ou pela senha de aplicativo\n",
    "\n",
    "    msg.add_header('Content-Type', 'text/html')\n",
    "    msg.set_payload(corpo_email)\n",
    "\n",
    "    # Configurações para o servidor SMTP do Outlook\n",
    "    servidor_smtp = 'smtp.office365.com'\n",
    "    porta_smtp = 587\n",
    "\n",
    "    # Configurações para o servidor SMTP do Outlook\n",
    "    s = smtplib.SMTP(servidor_smtp, porta_smtp)\n",
    "    s.starttls()\n",
    "    # Login Credentials for sending the mail\n",
    "    s.login(msg['From'], password)\n",
    "    s.sendmail(msg['From'], [msg['To']], msg.as_string().encode('utf-8'))\n",
    "    print('Email enviado')"
   ]
  },
  {
   "cell_type": "code",
   "execution_count": 14,
   "metadata": {},
   "outputs": [
    {
     "name": "stdout",
     "output_type": "stream",
     "text": [
      "Email enviado\n"
     ]
    }
   ],
   "source": [
    "enviar_email()"
   ]
  },
  {
   "cell_type": "code",
   "execution_count": null,
   "metadata": {},
   "outputs": [],
   "source": []
  }
 ],
 "metadata": {
  "kernelspec": {
   "display_name": "Python 3 (ipykernel)",
   "language": "python",
   "name": "python3"
  },
  "language_info": {
   "codemirror_mode": {
    "name": "ipython",
    "version": 3
   },
   "file_extension": ".py",
   "mimetype": "text/x-python",
   "name": "python",
   "nbconvert_exporter": "python",
   "pygments_lexer": "ipython3",
   "version": "3.10.0"
  }
 },
 "nbformat": 4,
 "nbformat_minor": 4
}
