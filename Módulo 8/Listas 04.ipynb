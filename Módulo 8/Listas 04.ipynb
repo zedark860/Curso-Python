{
 "cells": [
  {
   "cell_type": "markdown",
   "metadata": {},
   "source": [
    "# Adicionar e Remover itens de uma lista\n",
    "\n",
    "Adicionar:<br>\n",
    "lista.append(item)\n",
    "\n",
    "Remover:<br>\n",
    "item_removido = lista.pop(indice)<br>\n",
    "lista.remove(item)\n",
    "\n",
    "Digamos que você está construindo o controle de produtos da Apple.<br>\n",
    "E a Apple lançou o IPhone 11 e irá tirar dos seus estoques o IPhone X"
   ]
  },
  {
   "cell_type": "code",
   "execution_count": 6,
   "metadata": {},
   "outputs": [
    {
     "name": "stdout",
     "output_type": "stream",
     "text": [
      "['apple tv', 'mac', 'iphone x', 'IPad', 'apple watch', 'mac book', 'airpods']\n",
      "['apple tv', 'mac', 'IPad', 'apple watch', 'mac book', 'airpods', 'iphone 11']\n",
      "Removemos o item iphone x\n"
     ]
    }
   ],
   "source": [
    "produtos = ['apple tv', 'mac', 'iphone x', 'IPad', 'apple watch', 'mac book', 'airpods']\n",
    "print(produtos)\n",
    "i = produtos.index('iphone x')\n",
    "\n",
    "# Adiciona itens\n",
    "produtos.append('iphone 11')\n",
    "\n",
    "# Remove itens - primeira forma\n",
    "\n",
    "# produtos.remove('iphone x')\n",
    "\n",
    "item_removido = produtos.pop(i)\n",
    "\n",
    "print(produtos)\n",
    "print(f'Removemos o item {item_removido}')"
   ]
  },
  {
   "cell_type": "code",
   "execution_count": 7,
   "metadata": {},
   "outputs": [
    {
     "name": "stdout",
     "output_type": "stream",
     "text": [
      "['apple tv', 'mac', 'iphone x', 'IPad', 'apple watch', 'mac book', 'airpods']\n",
      "iphonex não exite na lista de produtos\n"
     ]
    }
   ],
   "source": [
    "produtos = ['apple tv', 'mac', 'iphone x', 'IPad', 'apple watch', 'mac book', 'airpods']\n",
    "print(produtos)\n",
    "i = produtos.index('iphone x')\n",
    "\n",
    "# Adiciona itens\n",
    "produtos.append('iphone 11')\n",
    "\n",
    "# Remove itens - primeira forma\n",
    "\n",
    "# produtos.remove('iphone x')\n",
    "\n",
    "produtos_remover = 'iphonex'\n",
    "\n",
    "if produtos_remover in produtos:\n",
    "    produtos.remove('iphonex')\n",
    "else:\n",
    "    print(f'{produtos_remover} não exite na lista de produtos')"
   ]
  },
  {
   "cell_type": "markdown",
   "metadata": {},
   "source": [
    "## Existem 2 formas de tratar o erro:\n",
    "\n",
    "1. Criar um if para evitar que ele aconteça\n",
    "\n",
    "2. Esperar que ele possa acontecer e tratar caso o erro aconteça com:"
   ]
  },
  {
   "cell_type": "raw",
   "metadata": {},
   "source": [
    "try:\n",
    "    tentar fazer\n",
    "except:\n",
    "    caso dê errado"
   ]
  },
  {
   "cell_type": "code",
   "execution_count": 9,
   "metadata": {},
   "outputs": [
    {
     "name": "stdout",
     "output_type": "stream",
     "text": [
      "['apple tv', 'mac', 'IPad', 'apple watch', 'mac book', 'airpods', 'iphone 11']\n"
     ]
    }
   ],
   "source": [
    "try:\n",
    "    produtos.remove('iphone x')\n",
    "    print(produtos)\n",
    "except:\n",
    "    print(f'{produtos_remover} não exite na lista de produtos')\n",
    "    # pass"
   ]
  }
 ],
 "metadata": {
  "kernelspec": {
   "display_name": "Python 3",
   "language": "python",
   "name": "python3"
  },
  "language_info": {
   "codemirror_mode": {
    "name": "ipython",
    "version": 3
   },
   "file_extension": ".py",
   "mimetype": "text/x-python",
   "name": "python",
   "nbconvert_exporter": "python",
   "pygments_lexer": "ipython3",
   "version": "3.10.0"
  }
 },
 "nbformat": 4,
 "nbformat_minor": 4
}
