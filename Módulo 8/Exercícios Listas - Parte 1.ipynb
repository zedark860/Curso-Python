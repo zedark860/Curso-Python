{
 "cells": [
  {
   "cell_type": "markdown",
   "metadata": {},
   "source": [
    "# Exercícios\n",
    "\n",
    "## 1. Faturamento do Melhor e do Pior Mês do Ano\n",
    "\n",
    "Qual foi o valor de vendas do melhor mês do Ano?\n",
    "E valor do pior mês do ano?"
   ]
  },
  {
   "cell_type": "code",
   "execution_count": 39,
   "metadata": {},
   "outputs": [
    {
     "name": "stdout",
     "output_type": "stream",
     "text": [
      "49051 9650\n"
     ]
    }
   ],
   "source": [
    "meses = ['jan', 'fev', 'mar', 'abr', 'mai', 'jun', 'jul', 'ago', 'set', 'out', 'nov', 'dez']\n",
    "vendas_1sem = [25000, 29000, 22200, 17750, 15870, 19900]\n",
    "vendas_2sem = [19850, 20120, 17540, 15555, 49051, 9650]\n",
    "\n",
    "vendas_completa = vendas_1sem + vendas_2sem\n",
    "vendas_p = min(vendas_completa)\n",
    "vendas_m = max(vendas_completa)\n",
    "print(vendas_m, vendas_p)"
   ]
  },
  {
   "cell_type": "markdown",
   "metadata": {},
   "source": [
    "## 2. Continuação\n",
    "\n",
    "Agora relacione as duas listas para printar 'O melhor mês do ano foi {} com {} vendas' e o mesmo para o pior mês do ano.\n",
    "\n",
    "Calcule também o faturamento total do Ano e quanto que o melhor mês representou do faturamento total.\n",
    "\n",
    "Obs: Para o faturamento total, pode usar a função sum(lista) que soma todos os itens de uma lista"
   ]
  },
  {
   "cell_type": "code",
   "execution_count": 17,
   "metadata": {},
   "outputs": [
    {
     "name": "stdout",
     "output_type": "stream",
     "text": [
      "O mês de nov foi o melhor de vendas com 49051\n",
      "O mês de dez foi o melhor de vendas com 9650\n",
      "O faturamento total foi R$261,486 e o melhor mês que foi nov representa 18.76%\n",
      "\n"
     ]
    }
   ],
   "source": [
    "i = vendas_completa.index(vendas_m)\n",
    "i2 = vendas_completa.index(vendas_p)\n",
    "nome_m = meses[i]\n",
    "nome_p = meses[i2]\n",
    "vendas_totais = sum(vendas_completa)\n",
    "porcentagem_melhor_mes = (vendas_m/vendas_totais)*100\n",
    "\n",
    "print(f\"\"\"O mês de {nome_m} foi o melhor de vendas com {vendas_m}\n",
    "O mês de {nome_p} foi o melhor de vendas com {vendas_p}\n",
    "O faturamento total foi R${vendas_totais:,} e o melhor mês que foi {nome_m} representa {porcentagem_melhor_mes:.2f}%\n",
    "\"\"\")"
   ]
  },
  {
   "cell_type": "markdown",
   "metadata": {},
   "source": [
    "## 3. Crie uma lista com o top 3 valores de vendas do ano (sem fazer \"no olho\")\n",
    "\n",
    "Dica: o método remove retira um item da lista."
   ]
  },
  {
   "cell_type": "code",
   "execution_count": 38,
   "metadata": {},
   "outputs": [
    {
     "name": "stdout",
     "output_type": "stream",
     "text": [
      "[49051, 29000, 25000]\n"
     ]
    }
   ],
   "source": [
    "# Primeira forma de fazer\n",
    "top3 = []\n",
    "vendas_ordenadas = sorted(vendas_completa)\n",
    "tres_maiores = vendas_ordenadas[-3:]\n",
    "top3.extend(tres_maiores)\n",
    "print(top3)\n",
    "\n",
    "# Segunda forma de fazer\n",
    "\n",
    "for i in range(3):\n",
    "    maior_valor = max(vendas_completa)\n",
    "    top3.append(maior_valor)\n",
    "    vendas_completa.remove(maior_valor)\n",
    "\n",
    "print(top3)\n"
   ]
  }
 ],
 "metadata": {
  "kernelspec": {
   "display_name": "Python 3",
   "language": "python",
   "name": "python3"
  },
  "language_info": {
   "codemirror_mode": {
    "name": "ipython",
    "version": 3
   },
   "file_extension": ".py",
   "mimetype": "text/x-python",
   "name": "python",
   "nbconvert_exporter": "python",
   "pygments_lexer": "ipython3",
   "version": "3.10.0"
  }
 },
 "nbformat": 4,
 "nbformat_minor": 4
}
