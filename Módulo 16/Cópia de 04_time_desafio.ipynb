{
 "cells": [
  {
   "cell_type": "markdown",
   "metadata": {},
   "source": [
    "## Tempo até o próximo ano\n",
    "\n",
    "Crie um script Python que calcula quantos dias, horas, minutos e segundos faltam até o próximo Ano Novo.\n",
    "\n"
   ]
  },
  {
   "cell_type": "markdown",
   "metadata": {
    "tags": []
   },
   "source": [
    "Lembrar da tupla de struct_time: https://docs.python.org/3/library/time.html#time.struct_time"
   ]
  },
  {
   "cell_type": "code",
   "execution_count": 1,
   "metadata": {
    "tags": []
   },
   "outputs": [
    {
     "name": "stdout",
     "output_type": "stream",
     "text": [
      "Segundos em um minuto: 60 s\n",
      "Segundos em uma hora: 3600 s\n",
      "Segundos em um dia: 86400 s\n"
     ]
    }
   ],
   "source": [
    "# lembrando\n",
    "\n",
    "segundos_por_minuto = 60\n",
    "segundos_por_hora = 60 * 60\n",
    "segundos_por_dia = 24 * 60 * 60\n",
    "\n",
    "print(f\"Segundos em um minuto: {segundos_por_minuto} s\")\n",
    "print(f\"Segundos em uma hora: {segundos_por_hora} s\")\n",
    "print(f\"Segundos em um dia: {segundos_por_dia} s\")"
   ]
  },
  {
   "cell_type": "code",
   "execution_count": 78,
   "metadata": {},
   "outputs": [
    {
     "name": "stdout",
     "output_type": "stream",
     "text": [
      "Tempo restante para o próximo ano: 39 dias, 936 horas, 56160 minutos, 3369600 segundos\n"
     ]
    }
   ],
   "source": [
    "# Importação das bibliotecas necessárias\n",
    "import time\n",
    "import locale\n",
    "\n",
    "# Configuração da localidade para o formato de data e hora em português\n",
    "locale.setlocale(locale.LC_TIME, 'pt_BR.UTF-8')\n",
    "\n",
    "# Função que retorna o número de dias do ano atual já passados\n",
    "def tempo_dias_ano():\n",
    "    # Obtém a data e hora locais como uma estrutura de tempo\n",
    "    tempo_em_struct = time.localtime()\n",
    "    # Extrai o número do dia do ano a partir da estrutura de tempo\n",
    "    tempo_dias = tempo_em_struct.tm_yday\n",
    "    return tempo_dias\n",
    "\n",
    "# Função que calcula o tempo restante até o próximo Ano Novo\n",
    "def conta_tempo_falta():\n",
    "    # Determina se o ano atual é bissexto\n",
    "    dias_anos = 365 if not time.localtime().tm_year % 4 == 0 else 366\n",
    "    # Calcula os dias restantes até o próximo Ano Novo\n",
    "    dias_restantes = dias_anos - tempo_dias_ano()\n",
    "    # Converte os dias restantes para horas, minutos e segundos\n",
    "    horas_restantes = dias_restantes * 24\n",
    "    minutos_restantes = horas_restantes * 60\n",
    "    segundos_restantes = minutos_restantes * 60\n",
    "    return (dias_restantes, horas_restantes, minutos_restantes, segundos_restantes)\n",
    "\n",
    "# Chama a função para obter o número de dias do ano já passados\n",
    "tempo_dias_ano()\n",
    "\n",
    "# Chama a função para calcular o tempo restante até o próximo Ano Novo\n",
    "dia, horas, minutos, segundos = conta_tempo_falta()\n",
    "\n",
    "# Imprime o tempo restante formatado\n",
    "print(f'Tempo restante para o próximo ano: {dia} dias, {horas} horas, {minutos} minutos, {segundos} segundos')"
   ]
  },
  {
   "cell_type": "code",
   "execution_count": 80,
   "metadata": {},
   "outputs": [
    {
     "name": "stdout",
     "output_type": "stream",
     "text": [
      "Faltam 39 dias, 1 horas, 19 minutos e 3 segundos para o Ano Novo\n"
     ]
    }
   ],
   "source": [
    "import time\n",
    "\n",
    "tempo_atual = time.localtime()\n",
    "\n",
    "tempo_ano_novo = (tempo_atual.tm_year + 1, 1, 1, 0, 0, 0, 0, 0, 0)\n",
    "\n",
    "segundos_restantes = int(time.mktime(tempo_ano_novo) - time.mktime(tempo_atual))\n",
    "\n",
    "segundos_por_minuto = 60\n",
    "segundos_por_hora = 60 * 60\n",
    "segundos_por_dia = 24 * 60 * 60\n",
    "\n",
    "# divmod() te da o quociente da divisão e o resto, nessa ordem\n",
    "\n",
    "dias, resto_segundos = divmod(segundos_restantes, segundos_por_dia)\n",
    "horas, resto_segundos = divmod(resto_segundos, segundos_por_hora)\n",
    "minutos, segundos = divmod(resto_segundos, segundos_por_minuto)\n",
    "\n",
    "print(f'Faltam {dias} dias, {horas} horas, {minutos} minutos e {segundos} segundos para o Ano Novo')"
   ]
  },
  {
   "cell_type": "markdown",
   "metadata": {
    "tags": []
   },
   "source": [
    "Lembrando de divisão:\n",
    "\n",
    "![divisao](https://escolaeducacao.com.br/wp-content/uploads/2020/01/algoritmo-divisao.png)"
   ]
  },
  {
   "cell_type": "code",
   "execution_count": null,
   "metadata": {},
   "outputs": [],
   "source": []
  }
 ],
 "metadata": {
  "kernelspec": {
   "display_name": "Python 3 (ipykernel)",
   "language": "python",
   "name": "python3"
  },
  "language_info": {
   "codemirror_mode": {
    "name": "ipython",
    "version": 3
   },
   "file_extension": ".py",
   "mimetype": "text/x-python",
   "name": "python",
   "nbconvert_exporter": "python",
   "pygments_lexer": "ipython3",
   "version": "3.10.0"
  }
 },
 "nbformat": 4,
 "nbformat_minor": 4
}
