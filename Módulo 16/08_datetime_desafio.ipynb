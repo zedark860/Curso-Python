{
 "cells": [
  {
   "cell_type": "markdown",
   "metadata": {},
   "source": [
    "## Calculando a idade\n",
    "\n",
    "Um usuário fornece sua data de nascimento no formato \"dd/mm/aaaa\". Crie um script Python que calcula a idade do usuário.\n"
   ]
  },
  {
   "cell_type": "code",
   "execution_count": 17,
   "metadata": {},
   "outputs": [
    {
     "name": "stdout",
     "output_type": "stream",
     "text": [
      "Erro de valor: Você não digitou nada, digite novamente\n",
      "None\n"
     ]
    }
   ],
   "source": [
    "from datetime import datetime\n",
    "\n",
    "def conta_data_nascimento(data_nascimento):\n",
    "    # Obtém a data atual\n",
    "    data_atual = datetime.today().date()\n",
    "    # Converte a entrada do usuário para um objeto de data\n",
    "    data_nascimento = datetime.strptime(data_nascimento, '%d/%m/%Y').date()\n",
    "    # Calcula a diferença entre a data atual e a data de nascimento\n",
    "    resultado_idade = data_atual - data_nascimento\n",
    "    # Calcula a idade em anos\n",
    "    anos = resultado_idade.days // 365\n",
    "    # Retorna as informações relevantes\n",
    "    return data_atual, data_nascimento, resultado_idade, anos\n",
    "\n",
    "\n",
    "try:\n",
    "    # Solicita ao usuário que digite a data de nascimento\n",
    "    data_nascimento = str(input('Digite a data do seu nascimento. Dessa forma (DD/MM/YYYY)').strip())\n",
    "\n",
    "    # Verifica se a entrada do usuário está vazia\n",
    "    if not data_nascimento:\n",
    "        raise ValueError('Você não digitou nada, digite novamente')\n",
    "    \n",
    "    # Verifica se a data possui duas barras, indicando o formato esperado\n",
    "    if data_nascimento.count('/') != 2:\n",
    "        raise ValueError('Está faltando barra na data. Por favor, digite novamente')\n",
    "    \n",
    "    # Chama a função para calcular as informações relacionadas à data de nascimento\n",
    "    data_atual_def, data_nascimento_def, resultado_idade_def, anos_def = conta_data_nascimento(data_nascimento)\n",
    "\n",
    "    # Obtém o mês e o dia atual e de nascimento\n",
    "    mes_atual = data_atual_def.month\n",
    "    dia_atual = data_atual_def.day\n",
    "\n",
    "    mes_nascimento = data_nascimento_def.month\n",
    "    dia_nascimento = data_nascimento_def.day\n",
    "\n",
    "    # Verifica se já fez aniversário neste ano\n",
    "    if mes_nascimento > mes_atual or (mes_nascimento == mes_atual and dia_nascimento > dia_atual):\n",
    "        resultado_idade_def -= 1\n",
    "\n",
    "    # Calcula os anos bissextos entre a data de nascimento e a data atual\n",
    "    anos_bixestos = sum(1 for year in range(data_nascimento_def.year, data_atual_def.year + 1) if year % 4 == 0 and (year % 100 != 0 or year % 400 == 0))\n",
    "\n",
    "    # Exibe as informações ao usuário\n",
    "    print(f'Sua idade é {anos_def} e você nasceu em {data_nascimento_def}')\n",
    "\n",
    "except ValueError as ve:\n",
    "    # Captura e exibe mensagens de erro relacionadas à entrada do usuário\n",
    "    print(print(f'Erro de valor: {ve}'))\n",
    "\n",
    "except Exception as ve:\n",
    "    # Captura e exibe mensagens de erro gerais\n",
    "    print(f'Ocorreu um erro: {ve}')"
   ]
  },
  {
   "cell_type": "code",
   "execution_count": null,
   "metadata": {},
   "outputs": [],
   "source": [
    "from datetime import datetime\n",
    "\n",
    "data_nascimento_usuario = input('Informe sua data de nascimento (dd/mm/aaaa): '.strip())\n",
    "\n",
    "data_nascimento_usuario = datetime.strptime(data_nascimento_usuario, '%d/%m/%Y')\n",
    "\n",
    "data_atual = datetime.now()\n",
    "\n",
    "idade = data_atual.year - data_nascimento_usuario.year\n",
    "\n",
    "mes_atual = data_atual.month\n",
    "dia_atual = data_atual.day\n",
    "\n",
    "mes_nascimento = data_nascimento_usuario.month\n",
    "dia_nascimento = data_nascimento_usuario.day\n",
    "\n",
    "if mes_nascimento > mes_atual:\n",
    "    idade -= 1\n",
    "elif mes_nascimento == mes_atual and dia_atual > dia_nascimento:\n",
    "    idade -= 1\n",
    "\n",
    "print(idade)"
   ]
  }
 ],
 "metadata": {
  "kernelspec": {
   "display_name": "Python 3 (ipykernel)",
   "language": "python",
   "name": "python3"
  },
  "language_info": {
   "codemirror_mode": {
    "name": "ipython",
    "version": 3
   },
   "file_extension": ".py",
   "mimetype": "text/x-python",
   "name": "python",
   "nbconvert_exporter": "python",
   "pygments_lexer": "ipython3",
   "version": "3.10.0"
  }
 },
 "nbformat": 4,
 "nbformat_minor": 4
}
