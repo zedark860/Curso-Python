{
 "cells": [
  {
   "cell_type": "markdown",
   "metadata": {},
   "source": [
    "# Guia para o módulo `datetime` em Python\n",
    "\n",
    "O módulo `datetime` em Python fornece classes para manipulação de datas e horas. Aqui está um guia simples para algumas das funções mais úteis deste módulo.\n",
    "\n"
   ]
  },
  {
   "cell_type": "markdown",
   "metadata": {},
   "source": [
    "## datetime.datetime.strftime()\n",
    "\n",
    "A função `strftime()` converte um objeto datetime para uma string de acordo com um formato específico.\n",
    "\n",
    "Símbolos que podem ser usados para formatar datas podem ser achados [aqui](https://docs.python.org/3/library/datetime.html#strftime-and-strptime-format-codes).\n"
   ]
  },
  {
   "cell_type": "code",
   "execution_count": 6,
   "metadata": {
    "collapsed": false,
    "jupyter": {
     "outputs_hidden": false
    }
   },
   "outputs": [
    {
     "name": "stdout",
     "output_type": "stream",
     "text": [
      "2023-11-25 01:36:45.543742\n"
     ]
    }
   ],
   "source": [
    "from datetime import datetime\n",
    "import locale\n",
    "\n",
    "locale.setlocale(locale.LC_TIME, 'Portuguese_Brazil.1252')\n",
    "\n",
    "agora = datetime.now()\n",
    "print(agora)"
   ]
  },
  {
   "cell_type": "code",
   "execution_count": 2,
   "metadata": {
    "tags": []
   },
   "outputs": [
    {
     "name": "stdout",
     "output_type": "stream",
     "text": [
      "<class 'datetime.datetime'>\n"
     ]
    }
   ],
   "source": [
    "print(type(agora))"
   ]
  },
  {
   "cell_type": "code",
   "execution_count": 8,
   "metadata": {},
   "outputs": [
    {
     "name": "stdout",
     "output_type": "stream",
     "text": [
      "Sábado, 25 De Novembro\n"
     ]
    }
   ],
   "source": [
    "print(agora.strftime(\"%A, %d de %B\").title())"
   ]
  },
  {
   "cell_type": "code",
   "execution_count": 9,
   "metadata": {},
   "outputs": [
    {
     "name": "stdout",
     "output_type": "stream",
     "text": [
      "Data formatada: Sábado, 25 De Novembro De 2023, 01:36:45\n"
     ]
    }
   ],
   "source": [
    "data_formatada = agora.strftime(\"%A, %d de %B de %Y, %H:%M:%S\")\n",
    "\n",
    "print(f\"Data formatada: {data_formatada.title()}\")"
   ]
  },
  {
   "cell_type": "code",
   "execution_count": 4,
   "metadata": {
    "collapsed": false,
    "jupyter": {
     "outputs_hidden": false
    }
   },
   "outputs": [
    {
     "name": "stdout",
     "output_type": "stream",
     "text": [
      "Data formatada: sábado, 25 de novembro de 2023, 01:36:37\n"
     ]
    }
   ],
   "source": [
    "import locale\n",
    "from datetime import datetime\n",
    "\n",
    "# Definir a localização para português.\n",
    "locale.setlocale(locale.LC_TIME, 'Portuguese_Brazil.1252')\n",
    "\n",
    "agora = datetime.now()\n",
    "data_formatada = agora.strftime(\"%A, %d de %B de %Y, %H:%M:%S\")\n",
    "\n",
    "print(f\"Data formatada: {data_formatada}\")"
   ]
  },
  {
   "cell_type": "markdown",
   "metadata": {},
   "source": [
    "## datetime.datetime.strptime()\n",
    "\n",
    "A função `strptime()` analisa uma string representando uma data e hora de acordo com um formato. O retorno é um objeto datetime.\n",
    "\n"
   ]
  },
  {
   "cell_type": "code",
   "execution_count": 10,
   "metadata": {
    "collapsed": false,
    "jupyter": {
     "outputs_hidden": false
    }
   },
   "outputs": [
    {
     "name": "stdout",
     "output_type": "stream",
     "text": [
      "Data: 2023-06-30 15:30:20\n",
      "<class 'datetime.datetime'>\n"
     ]
    }
   ],
   "source": [
    "from datetime import datetime\n",
    "\n",
    "string_data = \"30 Junho, 2023, 15:30:20\"\n",
    "formato = \"%d %B, %Y, %H:%M:%S\"\n",
    "data = datetime.strptime(string_data, formato)\n",
    "\n",
    "print(f\"Data: {data}\") "
   ]
  },
  {
   "cell_type": "code",
   "execution_count": 10,
   "metadata": {},
   "outputs": [
    {
     "name": "stdout",
     "output_type": "stream",
     "text": [
      "Data: 2023-06-09 15:30:20\n"
     ]
    }
   ],
   "source": [
    "# formato DD/MM/YYYY\n",
    "string_data = \"09/06/2023, 15:30:20\"\n",
    "formato = \"%d/%m/%Y, %H:%M:%S\"\n",
    "data = datetime.strptime(string_data, formato)\n",
    "\n",
    "print(f\"Data: {data}\")"
   ]
  },
  {
   "cell_type": "code",
   "execution_count": 11,
   "metadata": {},
   "outputs": [
    {
     "name": "stdout",
     "output_type": "stream",
     "text": [
      "Data: 2023-09-06 15:30:20\n"
     ]
    }
   ],
   "source": [
    "# formato MM/DD/YYYY\n",
    "string_data = \"09/06/2023, 15:30:20\"\n",
    "formato = \"%m/%d/%Y, %H:%M:%S\"\n",
    "data = datetime.strptime(string_data, formato)\n",
    "\n",
    "print(f\"Data: {data}\")"
   ]
  },
  {
   "cell_type": "markdown",
   "metadata": {},
   "source": [
    "## Trabalhando com fuso horário\n",
    "\n",
    "Podemos criar um objeto datetime usando a classe `datetime`. O construtor da classe aceita os seguintes argumentos:\n",
    "\n",
    "- `year`: ano (por exemplo, 2023)\n",
    "- `month`: mês (1-12)\n",
    "- `day`: dia (1-31)\n",
    "- `hour`: hora (0-23)\n",
    "- `minute`: minuto (0-59)\n",
    "- `second`: segundo (0-59)\n",
    "- `microsecond`: microssegundo (0-999999)\n",
    "- `tzinfo`: fuso horário\n"
   ]
  },
  {
   "cell_type": "code",
   "execution_count": 12,
   "metadata": {
    "collapsed": false,
    "jupyter": {
     "outputs_hidden": false
    }
   },
   "outputs": [
    {
     "name": "stdout",
     "output_type": "stream",
     "text": [
      "Data/hora: 2023-06-26 15:30:20\n"
     ]
    }
   ],
   "source": [
    "from datetime import datetime\n",
    "\n",
    "data_hora = datetime(2023, 6, 26, 15, 30, 20)\n",
    "print(f\"Data/hora: {data_hora}\") "
   ]
  },
  {
   "cell_type": "markdown",
   "metadata": {},
   "source": [
    "Os horários que vimos até o momento são os que chamamos de ingênuos (*naive*). Eles não possuem informações sobre o fuso horário. Para criar um horário consciente (*aware*), precisamos passar um objeto `tzinfo` para o construtor da classe `datetime`. O módulo `datetime` fornece uma classe `timezone` que pode ser usada para criar um objeto `tzinfo`. No exemplo abaixo, usamos UTC como fuso horário. UTC significa Tempo Universal Coordenado, que é o fuso horário de referência a partir do qual todos os outros fusos horários são calculados.\n",
    "\n",
    "![UTC](https://upload.wikimedia.org/wikipedia/commons/thumb/8/88/World_Time_Zones_Map.png/800px-World_Time_Zones_Map.png)\n"
   ]
  },
  {
   "cell_type": "code",
   "execution_count": 11,
   "metadata": {
    "collapsed": false,
    "jupyter": {
     "outputs_hidden": false
    }
   },
   "outputs": [
    {
     "name": "stdout",
     "output_type": "stream",
     "text": [
      "Data/hora: 2023-06-26 15:30:20+00:00\n"
     ]
    }
   ],
   "source": [
    "# exemplo com fuso horário\n",
    "from datetime import datetime, timezone\n",
    "\n",
    "fuso_horario = timezone.utc\n",
    "data_hora = datetime(2023, 6, 26, 15, 30, 20, tzinfo=fuso_horario)\n",
    "print(f\"Data/hora: {data_hora}\")"
   ]
  },
  {
   "cell_type": "markdown",
   "metadata": {},
   "source": [
    "Podemos passar um objeto `timedelta` para o construtor da classe `timezone` para criar um fuso horário com um deslocamento específico. Por exemplo, o código abaixo cria um fuso horário com um deslocamento de 3 horas em relação ao UTC:\n"
   ]
  },
  {
   "cell_type": "code",
   "execution_count": 14,
   "metadata": {
    "collapsed": false,
    "jupyter": {
     "outputs_hidden": false
    }
   },
   "outputs": [
    {
     "name": "stdout",
     "output_type": "stream",
     "text": [
      "Data/hora: 2023-06-26 15:30:20-03:00\n"
     ]
    }
   ],
   "source": [
    "# exemplo com fuso horário de São Paulo\n",
    "from datetime import datetime, timezone, timedelta\n",
    "\n",
    "fuso_horario_sao_paulo = timezone(timedelta(hours=-3))\n",
    "data_hora = datetime(2023, 6, 26, 15, 30, 20, tzinfo=fuso_horario_sao_paulo)\n",
    "print(f\"Data/hora: {data_hora}\")"
   ]
  },
  {
   "cell_type": "markdown",
   "metadata": {},
   "source": [
    "Como alternativa, podemos usar o módulo `zoneinfo` para criar um objeto `tzinfo`. O módulo `zoneinfo` está disponível na biblioteca padrão do Python desde a versão 3.9. O módulo `zoneinfo` fornece uma classe `ZoneInfo` que pode ser usada para criar um objeto `tzinfo`. No exemplo abaixo, usamos o fuso horário de São Paulo. Observe que não precisamos passar um objeto `timedelta` para o construtor da classe `ZoneInfo`."
   ]
  },
  {
   "cell_type": "code",
   "execution_count": 12,
   "metadata": {
    "collapsed": false,
    "jupyter": {
     "outputs_hidden": false
    }
   },
   "outputs": [
    {
     "ename": "ZoneInfoNotFoundError",
     "evalue": "'No time zone found with key America/Sao_Paulo'",
     "output_type": "error",
     "traceback": [
      "\u001b[1;31m---------------------------------------------------------------------------\u001b[0m",
      "\u001b[1;31mModuleNotFoundError\u001b[0m                       Traceback (most recent call last)",
      "File \u001b[1;32mc:\\Users\\ze_dark_\\AppData\\Local\\Programs\\Python\\Python310\\lib\\zoneinfo\\_common.py:12\u001b[0m, in \u001b[0;36mload_tzdata\u001b[1;34m(key)\u001b[0m\n\u001b[0;32m     11\u001b[0m \u001b[39mtry\u001b[39;00m:\n\u001b[1;32m---> 12\u001b[0m     \u001b[39mreturn\u001b[39;00m importlib\u001b[39m.\u001b[39;49mresources\u001b[39m.\u001b[39;49mopen_binary(package_name, resource_name)\n\u001b[0;32m     13\u001b[0m \u001b[39mexcept\u001b[39;00m (\u001b[39mImportError\u001b[39;00m, \u001b[39mFileNotFoundError\u001b[39;00m, \u001b[39mUnicodeEncodeError\u001b[39;00m):\n\u001b[0;32m     14\u001b[0m     \u001b[39m# There are three types of exception that can be raised that all amount\u001b[39;00m\n\u001b[0;32m     15\u001b[0m     \u001b[39m# to \"we cannot find this key\":\u001b[39;00m\n\u001b[1;32m   (...)\u001b[0m\n\u001b[0;32m     22\u001b[0m     \u001b[39m# UnicodeEncodeError: If package_name or resource_name are not UTF-8,\u001b[39;00m\n\u001b[0;32m     23\u001b[0m     \u001b[39m#   such as keys containing a surrogate character.\u001b[39;00m\n",
      "File \u001b[1;32mc:\\Users\\ze_dark_\\AppData\\Local\\Programs\\Python\\Python310\\lib\\importlib\\resources.py:43\u001b[0m, in \u001b[0;36mopen_binary\u001b[1;34m(package, resource)\u001b[0m\n\u001b[0;32m     42\u001b[0m resource \u001b[39m=\u001b[39m _common\u001b[39m.\u001b[39mnormalize_path(resource)\n\u001b[1;32m---> 43\u001b[0m package \u001b[39m=\u001b[39m _common\u001b[39m.\u001b[39;49mget_package(package)\n\u001b[0;32m     44\u001b[0m reader \u001b[39m=\u001b[39m _common\u001b[39m.\u001b[39mget_resource_reader(package)\n",
      "File \u001b[1;32mc:\\Users\\ze_dark_\\AppData\\Local\\Programs\\Python\\Python310\\lib\\importlib\\_common.py:66\u001b[0m, in \u001b[0;36mget_package\u001b[1;34m(package)\u001b[0m\n\u001b[0;32m     62\u001b[0m \u001b[39m\u001b[39m\u001b[39m\"\"\"Take a package name or module object and return the module.\u001b[39;00m\n\u001b[0;32m     63\u001b[0m \n\u001b[0;32m     64\u001b[0m \u001b[39mRaise an exception if the resolved module is not a package.\u001b[39;00m\n\u001b[0;32m     65\u001b[0m \u001b[39m\"\"\"\u001b[39;00m\n\u001b[1;32m---> 66\u001b[0m resolved \u001b[39m=\u001b[39m resolve(package)\n\u001b[0;32m     67\u001b[0m \u001b[39mif\u001b[39;00m wrap_spec(resolved)\u001b[39m.\u001b[39msubmodule_search_locations \u001b[39mis\u001b[39;00m \u001b[39mNone\u001b[39;00m:\n",
      "File \u001b[1;32mc:\\Users\\ze_dark_\\AppData\\Local\\Programs\\Python\\Python310\\lib\\importlib\\_common.py:57\u001b[0m, in \u001b[0;36mresolve\u001b[1;34m(cand)\u001b[0m\n\u001b[0;32m     55\u001b[0m \u001b[39mdef\u001b[39;00m \u001b[39mresolve\u001b[39m(cand):\n\u001b[0;32m     56\u001b[0m     \u001b[39m# type: (Package) -> types.ModuleType\u001b[39;00m\n\u001b[1;32m---> 57\u001b[0m     \u001b[39mreturn\u001b[39;00m cand \u001b[39mif\u001b[39;00m \u001b[39misinstance\u001b[39m(cand, types\u001b[39m.\u001b[39mModuleType) \u001b[39melse\u001b[39;00m importlib\u001b[39m.\u001b[39;49mimport_module(cand)\n",
      "File \u001b[1;32mc:\\Users\\ze_dark_\\AppData\\Local\\Programs\\Python\\Python310\\lib\\importlib\\__init__.py:126\u001b[0m, in \u001b[0;36mimport_module\u001b[1;34m(name, package)\u001b[0m\n\u001b[0;32m    125\u001b[0m         level \u001b[39m+\u001b[39m\u001b[39m=\u001b[39m \u001b[39m1\u001b[39m\n\u001b[1;32m--> 126\u001b[0m \u001b[39mreturn\u001b[39;00m _bootstrap\u001b[39m.\u001b[39;49m_gcd_import(name[level:], package, level)\n",
      "File \u001b[1;32m<frozen importlib._bootstrap>:1050\u001b[0m, in \u001b[0;36m_gcd_import\u001b[1;34m(name, package, level)\u001b[0m\n",
      "File \u001b[1;32m<frozen importlib._bootstrap>:1027\u001b[0m, in \u001b[0;36m_find_and_load\u001b[1;34m(name, import_)\u001b[0m\n",
      "File \u001b[1;32m<frozen importlib._bootstrap>:992\u001b[0m, in \u001b[0;36m_find_and_load_unlocked\u001b[1;34m(name, import_)\u001b[0m\n",
      "File \u001b[1;32m<frozen importlib._bootstrap>:241\u001b[0m, in \u001b[0;36m_call_with_frames_removed\u001b[1;34m(f, *args, **kwds)\u001b[0m\n",
      "File \u001b[1;32m<frozen importlib._bootstrap>:1050\u001b[0m, in \u001b[0;36m_gcd_import\u001b[1;34m(name, package, level)\u001b[0m\n",
      "File \u001b[1;32m<frozen importlib._bootstrap>:1027\u001b[0m, in \u001b[0;36m_find_and_load\u001b[1;34m(name, import_)\u001b[0m\n",
      "File \u001b[1;32m<frozen importlib._bootstrap>:992\u001b[0m, in \u001b[0;36m_find_and_load_unlocked\u001b[1;34m(name, import_)\u001b[0m\n",
      "File \u001b[1;32m<frozen importlib._bootstrap>:241\u001b[0m, in \u001b[0;36m_call_with_frames_removed\u001b[1;34m(f, *args, **kwds)\u001b[0m\n",
      "File \u001b[1;32m<frozen importlib._bootstrap>:1050\u001b[0m, in \u001b[0;36m_gcd_import\u001b[1;34m(name, package, level)\u001b[0m\n",
      "File \u001b[1;32m<frozen importlib._bootstrap>:1027\u001b[0m, in \u001b[0;36m_find_and_load\u001b[1;34m(name, import_)\u001b[0m\n",
      "File \u001b[1;32m<frozen importlib._bootstrap>:1004\u001b[0m, in \u001b[0;36m_find_and_load_unlocked\u001b[1;34m(name, import_)\u001b[0m\n",
      "\u001b[1;31mModuleNotFoundError\u001b[0m: No module named 'tzdata'",
      "\nDuring handling of the above exception, another exception occurred:\n",
      "\u001b[1;31mZoneInfoNotFoundError\u001b[0m                     Traceback (most recent call last)",
      "\u001b[1;32md:\\Códigos\\Curso-Python\\Módulo 16\\Cópia de 02_datetime_parte_02.ipynb Célula 19\u001b[0m line \u001b[0;36m5\n\u001b[0;32m      <a href='vscode-notebook-cell:/d%3A/C%C3%B3digos/Curso-Python/M%C3%B3dulo%2016/C%C3%B3pia%20de%2002_datetime_parte_02.ipynb#X25sZmlsZQ%3D%3D?line=1'>2</a>\u001b[0m \u001b[39mfrom\u001b[39;00m \u001b[39mdatetime\u001b[39;00m \u001b[39mimport\u001b[39;00m datetime\n\u001b[0;32m      <a href='vscode-notebook-cell:/d%3A/C%C3%B3digos/Curso-Python/M%C3%B3dulo%2016/C%C3%B3pia%20de%2002_datetime_parte_02.ipynb#X25sZmlsZQ%3D%3D?line=2'>3</a>\u001b[0m \u001b[39mfrom\u001b[39;00m \u001b[39mzoneinfo\u001b[39;00m \u001b[39mimport\u001b[39;00m ZoneInfo\n\u001b[1;32m----> <a href='vscode-notebook-cell:/d%3A/C%C3%B3digos/Curso-Python/M%C3%B3dulo%2016/C%C3%B3pia%20de%2002_datetime_parte_02.ipynb#X25sZmlsZQ%3D%3D?line=4'>5</a>\u001b[0m fuso_horario_sao_paulo \u001b[39m=\u001b[39m ZoneInfo(\u001b[39m'\u001b[39;49m\u001b[39mAmerica/Sao_Paulo\u001b[39;49m\u001b[39m'\u001b[39;49m)\n\u001b[0;32m      <a href='vscode-notebook-cell:/d%3A/C%C3%B3digos/Curso-Python/M%C3%B3dulo%2016/C%C3%B3pia%20de%2002_datetime_parte_02.ipynb#X25sZmlsZQ%3D%3D?line=5'>6</a>\u001b[0m data_hora \u001b[39m=\u001b[39m datetime(\u001b[39m2023\u001b[39m, \u001b[39m6\u001b[39m, \u001b[39m26\u001b[39m, \u001b[39m15\u001b[39m, \u001b[39m30\u001b[39m, \u001b[39m20\u001b[39m, tzinfo\u001b[39m=\u001b[39mfuso_horario_sao_paulo)\n\u001b[0;32m      <a href='vscode-notebook-cell:/d%3A/C%C3%B3digos/Curso-Python/M%C3%B3dulo%2016/C%C3%B3pia%20de%2002_datetime_parte_02.ipynb#X25sZmlsZQ%3D%3D?line=6'>7</a>\u001b[0m \u001b[39mprint\u001b[39m(\u001b[39mf\u001b[39m\u001b[39m\"\u001b[39m\u001b[39mData/hora: \u001b[39m\u001b[39m{\u001b[39;00mdata_hora\u001b[39m}\u001b[39;00m\u001b[39m\"\u001b[39m)\n",
      "File \u001b[1;32mc:\\Users\\ze_dark_\\AppData\\Local\\Programs\\Python\\Python310\\lib\\zoneinfo\\_common.py:24\u001b[0m, in \u001b[0;36mload_tzdata\u001b[1;34m(key)\u001b[0m\n\u001b[0;32m     12\u001b[0m     \u001b[39mreturn\u001b[39;00m importlib\u001b[39m.\u001b[39mresources\u001b[39m.\u001b[39mopen_binary(package_name, resource_name)\n\u001b[0;32m     13\u001b[0m \u001b[39mexcept\u001b[39;00m (\u001b[39mImportError\u001b[39;00m, \u001b[39mFileNotFoundError\u001b[39;00m, \u001b[39mUnicodeEncodeError\u001b[39;00m):\n\u001b[0;32m     14\u001b[0m     \u001b[39m# There are three types of exception that can be raised that all amount\u001b[39;00m\n\u001b[0;32m     15\u001b[0m     \u001b[39m# to \"we cannot find this key\":\u001b[39;00m\n\u001b[1;32m   (...)\u001b[0m\n\u001b[0;32m     22\u001b[0m     \u001b[39m# UnicodeEncodeError: If package_name or resource_name are not UTF-8,\u001b[39;00m\n\u001b[0;32m     23\u001b[0m     \u001b[39m#   such as keys containing a surrogate character.\u001b[39;00m\n\u001b[1;32m---> 24\u001b[0m     \u001b[39mraise\u001b[39;00m ZoneInfoNotFoundError(\u001b[39mf\u001b[39m\u001b[39m\"\u001b[39m\u001b[39mNo time zone found with key \u001b[39m\u001b[39m{\u001b[39;00mkey\u001b[39m}\u001b[39;00m\u001b[39m\"\u001b[39m)\n",
      "\u001b[1;31mZoneInfoNotFoundError\u001b[0m: 'No time zone found with key America/Sao_Paulo'"
     ]
    }
   ],
   "source": [
    "# exemplo com fuso horário de São Paulo sem necessidade de timedelta\n",
    "from datetime import datetime\n",
    "from zoneinfo import ZoneInfo\n",
    "\n",
    "fuso_horario_sao_paulo = ZoneInfo('America/Sao_Paulo')\n",
    "data_hora = datetime(2023, 6, 26, 15, 30, 20, tzinfo=fuso_horario_sao_paulo)\n",
    "print(f\"Data/hora: {data_hora}\")"
   ]
  },
  {
   "cell_type": "markdown",
   "metadata": {},
   "source": [
    "### Conversão entre fusos horários\n",
    "\n",
    "Podemos converter um objeto datetime de um fuso horário para outro usando o método `astimezone()`.\n"
   ]
  },
  {
   "cell_type": "code",
   "execution_count": 16,
   "metadata": {
    "collapsed": false,
    "jupyter": {
     "outputs_hidden": false
    },
    "tags": []
   },
   "outputs": [
    {
     "name": "stdout",
     "output_type": "stream",
     "text": [
      "Data/hora atual (fuso horário local): 2023-06-29 19:17:09.311311\n"
     ]
    }
   ],
   "source": [
    "from datetime import datetime\n",
    "from zoneinfo import ZoneInfo\n",
    " \n",
    "data_hora_atual = datetime.now()\n",
    "print(f\"Data/hora atual (fuso horário local): {data_hora_atual}\")  "
   ]
  },
  {
   "cell_type": "code",
   "execution_count": 17,
   "metadata": {
    "tags": []
   },
   "outputs": [
    {
     "name": "stdout",
     "output_type": "stream",
     "text": [
      "Data/hora atual em São Paulo: 2023-06-29 19:17:09.311311-03:00\n"
     ]
    }
   ],
   "source": [
    "fuso_horario_sao_paulo = ZoneInfo('America/Sao_Paulo')\n",
    "data_hora_sao_paulo = data_hora_atual.astimezone(fuso_horario_sao_paulo)\n",
    "print(f\"Data/hora atual em São Paulo: {data_hora_sao_paulo}\")  "
   ]
  },
  {
   "cell_type": "code",
   "execution_count": 18,
   "metadata": {
    "tags": []
   },
   "outputs": [
    {
     "name": "stdout",
     "output_type": "stream",
     "text": [
      "Data/hora atual em Nova York: 2023-06-29 18:17:09.311311-04:00\n"
     ]
    }
   ],
   "source": [
    "fuso_horario_ny = ZoneInfo('America/New_York')\n",
    "data_hora_ny = data_hora_atual.astimezone(fuso_horario_ny)\n",
    "print(f\"Data/hora atual em Nova York: {data_hora_ny}\") "
   ]
  }
 ],
 "metadata": {
  "kernelspec": {
   "display_name": "Python 3 (ipykernel)",
   "language": "python",
   "name": "python3"
  },
  "language_info": {
   "codemirror_mode": {
    "name": "ipython",
    "version": 3
   },
   "file_extension": ".py",
   "mimetype": "text/x-python",
   "name": "python",
   "nbconvert_exporter": "python",
   "pygments_lexer": "ipython3",
   "version": "3.10.0"
  }
 },
 "nbformat": 4,
 "nbformat_minor": 4
}
