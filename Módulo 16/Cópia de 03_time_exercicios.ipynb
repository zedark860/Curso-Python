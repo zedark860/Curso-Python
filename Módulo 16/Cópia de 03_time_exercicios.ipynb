{
 "cells": [
  {
   "cell_type": "markdown",
   "metadata": {},
   "source": [
    "## Contagem regressiva\n",
    "\n",
    "Um evento especial está programado para começar em 10 segundos. Crie uma contagem regressiva que começa em 10 e vai até 0, com uma pausa de um segundo entre cada número.\n"
   ]
  },
  {
   "cell_type": "markdown",
   "metadata": {},
   "source": [
    " "
   ]
  },
  {
   "cell_type": "code",
   "execution_count": 17,
   "metadata": {},
   "outputs": [
    {
     "name": "stdout",
     "output_type": "stream",
     "text": [
      "Contagem regressiva 10\n",
      "\n",
      "Contagem regressiva 9\n",
      "\n",
      "Contagem regressiva 8\n",
      "\n",
      "Contagem regressiva 7\n",
      "\n",
      "Contagem regressiva 6\n",
      "\n",
      "Contagem regressiva 5\n",
      "\n",
      "Contagem regressiva 4\n",
      "\n",
      "Contagem regressiva 3\n",
      "\n",
      "Contagem regressiva 2\n",
      "\n",
      "Contagem regressiva 1\n",
      "\n",
      "Contagem regressiva 0\n",
      "\n",
      "O evento começou!\n"
     ]
    }
   ],
   "source": [
    "import time\n",
    "\n",
    "def contagem_regressiva():\n",
    "    for i in range(10,-1,-1):\n",
    "        print(f'Contagem regressiva {i}\\n')\n",
    "        time.sleep(1)\n",
    "\n",
    "contagem_regressiva()\n",
    "print('O evento começou!')"
   ]
  },
  {
   "cell_type": "code",
   "execution_count": 19,
   "metadata": {},
   "outputs": [
    {
     "name": "stdout",
     "output_type": "stream",
     "text": [
      "O evento começou!va 0  \n"
     ]
    }
   ],
   "source": [
    "import time\n",
    "\n",
    "def contagem_regressiva():\n",
    "    for i in range(10,-1,-1):\n",
    "        print(f'Contagem regressiva {i}', end=' \\r')\n",
    "        # Da um espaço e retorna para o início da linha, \\t é para tab\n",
    "        time.sleep(1)\n",
    "\n",
    "contagem_regressiva()\n",
    "\n",
    "print('O evento começou!')"
   ]
  },
  {
   "cell_type": "markdown",
   "metadata": {},
   "source": [
    "## Formatação de tempo\n",
    "\n",
    "Uma empresa quer exibir a data e a hora atual em seu site no formato \"Dia da semana, dia do mês de mês de ano, horas:minutos\". Crie um script Python que mostra a data e a hora atuais neste formato.\n",
    "\n"
   ]
  },
  {
   "cell_type": "code",
   "execution_count": 20,
   "metadata": {},
   "outputs": [
    {
     "name": "stdout",
     "output_type": "stream",
     "text": [
      "O horário atual do site é: Terã§a-feira dia 21 de novembro de 2023 as 20:36\n"
     ]
    }
   ],
   "source": [
    "import time\n",
    "import locale\n",
    "\n",
    "locale.setlocale(locale.LC_TIME, 'pt_BR.UTF-8')\n",
    "\n",
    "def definir_tempo():\n",
    "    tempo = time.strftime('%A dia %d de %B de %Y as %H:%M')\n",
    "    return tempo\n",
    "\n",
    "resultado = definir_tempo()\n",
    "print(f'O horário atual do site é: {resultado.capitalize()}')"
   ]
  }
 ],
 "metadata": {
  "kernelspec": {
   "display_name": "Python 3 (ipykernel)",
   "language": "python",
   "name": "python3"
  },
  "language_info": {
   "codemirror_mode": {
    "name": "ipython",
    "version": 3
   },
   "file_extension": ".py",
   "mimetype": "text/x-python",
   "name": "python",
   "nbconvert_exporter": "python",
   "pygments_lexer": "ipython3",
   "version": "3.10.0"
  }
 },
 "nbformat": 4,
 "nbformat_minor": 4
}
