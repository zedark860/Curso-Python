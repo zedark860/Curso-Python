{
 "cells": [
  {
   "cell_type": "markdown",
   "metadata": {},
   "source": [
    "## Oferecendo desconto para cliente com base na última compra\n",
    "\n",
    "Suponha que você está trabalhando para uma empresa que deseja rastrear a atividade do cliente. Uma métrica que eles estão interessados é o tempo que passou desde a última transação do cliente. Se for muito tempo, eles podem oferecer um desconto para o cliente. Crie um script Python que mostra quanto tempo se passou desde a última compra do cliente. Se faz mais de 30 dias, mostre uma mensagem oferecendo um desconto para o cliente."
   ]
  },
  {
   "cell_type": "code",
   "execution_count": 10,
   "metadata": {},
   "outputs": [
    {
     "name": "stdout",
     "output_type": "stream",
     "text": [
      "O cliente pode ter um desconto, pois foi mais de 30 dias desde a última compra.\n"
     ]
    }
   ],
   "source": [
    "from datetime import datetime\n",
    "\n",
    "# Função que calcula o tempo decorrido desde a última compra até o momento atual\n",
    "def calculo_tempo():\n",
    "    ultima_compra = datetime(2023, 5, 10)\n",
    "    hora_recente = datetime.now()\n",
    "\n",
    "    # Calcula a diferença entre a hora atual e a última compra\n",
    "    tempo_decorrido = hora_recente - ultima_compra\n",
    "    \n",
    "    return tempo_decorrido\n",
    "\n",
    "# Função que determina se o cliente é elegível para desconto com base no tempo decorrido\n",
    "def dias_para_desconto():\n",
    "    # Obtém o número de dias decorridos usando a função calculo_tempo()\n",
    "    if calculo_tempo().days > dias_desconto:\n",
    "        # Retorna uma mensagem se o cliente pode ter um desconto\n",
    "        return 'O cliente pode ter um desconto, pois foi mais de 30 dias desde a última compra.'\n",
    "    else:\n",
    "        # Retorna uma mensagem se o cliente não pode ter um desconto\n",
    "        return 'O cliente não pode ter desconto, pois a última compra foi menos de 30 dias'\n",
    "\n",
    "# Número de dias necessário para o cliente ser elegível para desconto\n",
    "dias_desconto = 30\n",
    "\n",
    "# Chama a função dias_para_desconto() e armazena o resultado\n",
    "resultado = dias_para_desconto()\n",
    "\n",
    "# Exibe o resultado\n",
    "print(resultado)\n"
   ]
  },
  {
   "cell_type": "markdown",
   "metadata": {},
   "source": [
    "## Data e hora em diferentes fusos horários\n",
    "\n",
    "Uma empresa tem escritórios em São Paulo, Nova York e Tóquio. Crie um script Python que mostra a data e hora atuais nesses três fusos horários. Exiba, também, se estes escritórios estão abertos ou fechados (9h às 17h).\n"
   ]
  },
  {
   "cell_type": "code",
   "execution_count": 41,
   "metadata": {},
   "outputs": [
    {
     "name": "stdout",
     "output_type": "stream",
     "text": [
      "No fuso de São Paulo os escritórios estão fechados às 2023-11-25 03:12:06.270699-03:00 horas\n",
      "No fuso de Nova York os escritórios estão fechados às 2023-11-25 01:12:06.270699-05:00 horas\n",
      "No fuso de Tóquio os escritórios estão abertos 2023-11-25 15:12:06.270699+09:00 às  horas\n"
     ]
    }
   ],
   "source": [
    "from datetime import datetime\n",
    "from zoneinfo import ZoneInfo\n",
    "\n",
    "# Criar objetos ZoneInfo para os fusos horários das cidades\n",
    "fuso_sao_paulo = ZoneInfo('America/Sao_Paulo')\n",
    "fuso_nova_york = ZoneInfo('America/New_York')\n",
    "fuso_toquio = ZoneInfo('Asia/Tokyo')\n",
    "\n",
    "# Dicionário que mapeia o nome da cidade para seu respectivo objeto ZoneInfo\n",
    "dicionario_fusos = {'São Paulo': fuso_sao_paulo, 'Nova York': fuso_nova_york, 'Tóquio': fuso_toquio}\n",
    "\n",
    "# Função para mostrar informações sobre o estado dos escritórios em relação ao horário atual\n",
    "def mostrar_fuso():\n",
    "    for cidade, fuso in dicionario_fusos.items():\n",
    "        # Obter a hora atual no fuso horário específico\n",
    "        horario_atual = datetime.now()\n",
    "\n",
    "        # Obter o deslocamento em relação ao UTC para o horário atual\n",
    "        deslocamento_utc = horario_atual.astimezone(fuso)\n",
    "\n",
    "        # Verificar se os escritórios estão abertos ou fechados e imprimir a mensagem correspondente\n",
    "        if 9 <= deslocamento_utc.hour < 17:\n",
    "            print(f'No fuso de {cidade} os escritórios estão abertos {deslocamento_utc} às  horas')\n",
    "        else:\n",
    "            print(f'No fuso de {cidade} os escritórios estão fechados às {deslocamento_utc} horas')\n",
    "\n",
    "\n",
    "# Chamar a função para mostrar as informações dos fusos horários\n",
    "mostrar_fuso()"
   ]
  },
  {
   "cell_type": "code",
   "execution_count": 33,
   "metadata": {},
   "outputs": [
    {
     "name": "stdout",
     "output_type": "stream",
     "text": [
      "Data/hora em São Paulo: 2023-11-25 03:01:26.492952-03:00\n",
      "Data/hora em Nova York: 2023-11-25 01:01:26.492952-05:00\n",
      "Data/hora em Toqui: 2023-11-25 15:01:26.492952+09:00\n"
     ]
    }
   ],
   "source": [
    "from datetime import datetime\n",
    "from zoneinfo import ZoneInfo\n",
    "\n",
    "data_hora_atual = datetime.now()\n",
    "\n",
    "fuso_horario_sao_paulo = ZoneInfo('America/Sao_Paulo')\n",
    "fuso_horario_ny = ZoneInfo('America/New_York')\n",
    "fuso_horario_toquio = ZoneInfo('Asia/Tokyo')\n",
    "\n",
    "data_hora_sao_paulo = data_hora_atual.astimezone(fuso_horario_sao_paulo)\n",
    "data_hora_ny = data_hora_atual.astimezone(fuso_horario_ny)\n",
    "data_hora_toquio = data_hora_atual.astimezone(fuso_horario_toquio)\n",
    "\n",
    "print(f'Data/hora em São Paulo: {data_hora_sao_paulo}')\n",
    "print(f'Data/hora em Nova York: {data_hora_ny}')\n",
    "print(f'Data/hora em Toqui: {data_hora_toquio}')"
   ]
  },
  {
   "cell_type": "code",
   "execution_count": 38,
   "metadata": {},
   "outputs": [
    {
     "name": "stdout",
     "output_type": "stream",
     "text": [
      "Escritório de São Paulo está Fechado\n",
      "Escritório de Nova York está Fechado\n",
      "Escritório de Tóquio está Aberto\n"
     ]
    }
   ],
   "source": [
    "def verifica_horario(data_hora):\n",
    "    if 9 <= data_hora.hour < 17:\n",
    "        return 'Aberto'\n",
    "    else:\n",
    "        return 'Fechado'\n",
    "    \n",
    "print(f'Escritório de São Paulo está {verifica_horario(data_hora_sao_paulo)}')\n",
    "print(f'Escritório de Nova York está {verifica_horario(data_hora_ny)}')\n",
    "print(f'Escritório de Tóquio está {verifica_horario(data_hora_toquio)}')"
   ]
  }
 ],
 "metadata": {
  "kernelspec": {
   "display_name": "Python 3 (ipykernel)",
   "language": "python",
   "name": "python3"
  },
  "language_info": {
   "codemirror_mode": {
    "name": "ipython",
    "version": 3
   },
   "file_extension": ".py",
   "mimetype": "text/x-python",
   "name": "python",
   "nbconvert_exporter": "python",
   "pygments_lexer": "ipython3",
   "version": "3.10.0"
  }
 },
 "nbformat": 4,
 "nbformat_minor": 4
}
