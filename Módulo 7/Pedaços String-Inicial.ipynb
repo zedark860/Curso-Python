{
 "cells": [
  {
   "cell_type": "markdown",
   "id": "4e5fa91b",
   "metadata": {},
   "source": [
    "### Forma Básica"
   ]
  },
  {
   "cell_type": "code",
   "execution_count": 1,
   "id": "fba45682",
   "metadata": {},
   "outputs": [
    {
     "name": "stdout",
     "output_type": "stream",
     "text": [
      "Jan: 25\n"
     ]
    }
   ],
   "source": [
    "precos = \"Jan: 25, Fev: 27, Mar: 29\"\n",
    "\n",
    "preco_jan = precos[0:7]\n",
    "\n",
    "print(preco_jan)"
   ]
  },
  {
   "cell_type": "markdown",
   "id": "afe5dc17",
   "metadata": {},
   "source": [
    "### Posição Inicial e Final"
   ]
  },
  {
   "cell_type": "code",
   "execution_count": 5,
   "id": "c3488405",
   "metadata": {},
   "outputs": [
    {
     "name": "stdout",
     "output_type": "stream",
     "text": [
      "29\n",
      "27\n",
      "27\n"
     ]
    }
   ],
   "source": [
    "preco_mar = precos[-2:]\n",
    "print(preco_mar)\n",
    "\n",
    "preco_fev = precos[14:16]\n",
    "print(preco_fev)\n",
    "\n",
    "preco_fev2 = precos[-11:-9]\n",
    "print(preco_fev2)"
   ]
  },
  {
   "cell_type": "markdown",
   "id": "bca6dfd4",
   "metadata": {},
   "source": [
    "### Posição Inicial e Final com Step"
   ]
  },
  {
   "cell_type": "code",
   "execution_count": 9,
   "id": "981224c2",
   "metadata": {},
   "outputs": [
    {
     "name": "stdout",
     "output_type": "stream",
     "text": [
      "1543\n"
     ]
    }
   ],
   "source": [
    "codigo = \"1.2.3.4,5,1,2.3.4,7.9\"\n",
    "\n",
    "pedaco_cod = codigo[10:2:-2]\n",
    "print(pedaco_cod)"
   ]
  },
  {
   "cell_type": "code",
   "execution_count": null,
   "id": "e134a9b3",
   "metadata": {},
   "outputs": [],
   "source": []
  }
 ],
 "metadata": {
  "kernelspec": {
   "display_name": "Python 3 (ipykernel)",
   "language": "python",
   "name": "python3"
  },
  "language_info": {
   "codemirror_mode": {
    "name": "ipython",
    "version": 3
   },
   "file_extension": ".py",
   "mimetype": "text/x-python",
   "name": "python",
   "nbconvert_exporter": "python",
   "pygments_lexer": "ipython3",
   "version": "3.10.0"
  }
 },
 "nbformat": 4,
 "nbformat_minor": 5
}
