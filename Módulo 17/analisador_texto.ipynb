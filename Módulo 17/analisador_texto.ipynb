{
 "cells": [
  {
   "cell_type": "markdown",
   "id": "bc53556e-a539-4328-b873-fa5357312414",
   "metadata": {},
   "source": [
    "Crie um programa que analise um texto fornecido pelo usuário. O programa deve contar o número de palavras (independentemente se há repetição ou não), a quantidade de cada palavra e a quantidade de cada letra. Ignore maiúsculas e minúsculas ao contar letras (ou seja, transforme tudo para minúsculas). Faça o devido tratamento para pontuação e espaços ao contar palavras.\n",
    "\n",
    "O programa deve conter uma função chamada `analisar_texto` que recebe o texto como parâmetro e retorna a contagem de palavras, a frequência de palavras e a frequência de letras. A função deve ser devidamente documentada.\n",
    "\n",
    "Para o texto \"Olá mundo! Este é um teste. Olá novamente.\" o programa deve imprimir:\n",
    "\n",
    "```\n",
    "Contagem de palavras: 8\n",
    "Frequência de palavras: Counter({'Olá': 2, 'mundo': 1, 'Este': 1, 'é': 1, 'um': 1, 'teste': 1, 'novamente': 1})\n",
    "Frequência de letras: Counter({' ': 7, 'e': 6, 'o': 4, 't': 4, 'm': 3, 'n': 3, 'l': 2, 'á': 2, 'u': 2, 's': 2, 'd': 1, 'é': 1, 'v': 1, 'a': 1})\n",
    "```\n",
    "\n",
    "Dica: use o módulo `string` para obter uma lista de caracteres de pontuação. Exemplo:\n",
    "\n",
    "```python\n",
    "import string\n",
    "print(string.punctuation)\n",
    "```\n",
    "\n",
    "Dica: use o módulo `collections` para obter um contador de palavras e letras. Exemplo:\n",
    "\n",
    "```python\n",
    "from collections import Counter\n",
    "print(Counter(['a', 'b', 'a', 'c', 'b', 'a']))\n",
    "print(Counter('abacba'))\n",
    "``` "
   ]
  },
  {
   "cell_type": "code",
   "execution_count": 18,
   "id": "8feda3f2-210f-4224-9b53-de7206c039ae",
   "metadata": {},
   "outputs": [
    {
     "name": "stdout",
     "output_type": "stream",
     "text": [
      "1\n",
      "Counter({'o': 1, 'l': 1, 'a': 1})\n",
      "Counter({'ola': 1})\n"
     ]
    }
   ],
   "source": [
    "import string\n",
    "from collections import Counter\n",
    "\n",
    "def analisar_texto(texto_analise):\n",
    "    translator = str.maketrans('', '', string.punctuation)\n",
    "\n",
    "    palavras_sem_car_especial = [palavra.translate(translator) for palavra in texto_analise.split()]\n",
    "\n",
    "    texto_sem_car_especial = texto_analise.translate(translator)\n",
    "\n",
    "    contagem_palavras = len(palavras_sem_car_especial)\n",
    "\n",
    "    frequencia_letras = Counter(texto_sem_car_especial)\n",
    "\n",
    "    frequencia_palavras = Counter(palavras_sem_car_especial)\n",
    "\n",
    "    return contagem_palavras, frequencia_letras, frequencia_palavras\n",
    "\n",
    "\n",
    "texto = input('Digite o seu texto aqui: ').strip().lower()\n",
    "\n",
    "quantidade_palavras, frenquencia_letras, frequencia_palavras = analisar_texto(texto)\n",
    "\n",
    "print(quantidade_palavras)\n",
    "\n",
    "print(frenquencia_letras)\n",
    "\n",
    "print(frequencia_palavras)"
   ]
  },
  {
   "cell_type": "code",
   "execution_count": 67,
   "metadata": {},
   "outputs": [
    {
     "name": "stdout",
     "output_type": "stream",
     "text": [
      "8\n",
      "Counter({' ': 7, 'e': 5, 't': 4, 'm': 3, 'n': 3, 'O': 2, 'l': 2, 'á': 2, 'u': 2, 'o': 2, 's': 2, 'd': 1, 'E': 1, 'é': 1, 'v': 1, 'a': 1})\n",
      "Counter({'Olá': 2, 'mundo': 1, 'Este': 1, 'é': 1, 'um': 1, 'teste': 1, 'novamente': 1})\n"
     ]
    }
   ],
   "source": [
    "import string\n",
    "from collections import Counter\n",
    "\n",
    "def analisar_texto(texto):\n",
    "    palavras = texto.split()\n",
    "    contagem_palavras = len(palavras)\n",
    "\n",
    "    remover_pontuacao = str.maketrans('', '', string.punctuation)\n",
    "\n",
    "    for i in range(contagem_palavras):\n",
    "        palavras[i] = palavras[i].translate(remover_pontuacao)\n",
    "    \n",
    "    texto_sem_pontuacao = texto.translate(remover_pontuacao)\n",
    "    frequencia_letras = Counter(texto_sem_pontuacao)\n",
    "    frequencia_palavras = Counter(palavras)\n",
    "\n",
    "    return contagem_palavras, frequencia_letras, frequencia_palavras\n",
    "\n",
    "texto = \"Olá mundo! Este é um teste. Olá novamente.\"\n",
    "\n",
    "contagem_palavras, frequencia_letras, frequencia_palavras = analisar_texto(texto)\n",
    "\n",
    "print(contagem_palavras)\n",
    "print(frequencia_letras)\n",
    "print(frequencia_palavras)\n"
   ]
  },
  {
   "cell_type": "code",
   "execution_count": 70,
   "metadata": {},
   "outputs": [
    {
     "name": "stdout",
     "output_type": "stream",
     "text": [
      "8\n",
      "Counter({'Olá': 2, 'mundo': 1, 'Este': 1, 'é': 1, 'um': 1, 'teste': 1, 'novamente': 1})\n",
      "Counter({' ': 7, 'e': 6, 'o': 4, 't': 4, 'm': 3, 'n': 3, 'l': 2, 'á': 2, 'u': 2, 's': 2, 'd': 1, 'é': 1, 'v': 1, 'a': 1})\n"
     ]
    }
   ],
   "source": [
    "import string\n",
    "from collections import Counter\n",
    "\n",
    "def analisar_texto(texto):\n",
    "    \"\"\"\n",
    "    Analisa o texto fornecido e calcula a contagem de palavras, a frequência de palavras e frequência de letras.\n",
    "\n",
    "    Parameters\n",
    "    ----------\n",
    "    texto = str\n",
    "        Texto a ser analisado\n",
    "    \n",
    "    Returns\n",
    "    -------\n",
    "    tuple\n",
    "        Contagem de palavras, frequência de palavras, frequência de letras\n",
    "    \"\"\"\n",
    "    tratamento = str.maketrans('', '', string.punctuation)\n",
    "\n",
    "    texto_tratado = texto.translate(tratamento)\n",
    "\n",
    "    palavras = texto_tratado.split()\n",
    "\n",
    "    contagem_palavras = len(palavras)\n",
    "\n",
    "    frequencia_letras = Counter(palavras)\n",
    "\n",
    "    frequencia_palavras = Counter(texto_tratado.lower())\n",
    "\n",
    "    return contagem_palavras, frequencia_letras, frequencia_palavras\n",
    "\n",
    "texto = \"Olá mundo! Este é um teste. Olá novamente.\"\n",
    "\n",
    "contagem_palavras, frequencia_letras, frequencia_palavras = analisar_texto(texto)\n",
    "\n",
    "print(contagem_palavras)\n",
    "print(frequencia_letras)\n",
    "print(frequencia_palavras)\n"
   ]
  }
 ],
 "metadata": {
  "kernelspec": {
   "display_name": "Python 3 (ipykernel)",
   "language": "python",
   "name": "python3"
  },
  "language_info": {
   "codemirror_mode": {
    "name": "ipython",
    "version": 3
   },
   "file_extension": ".py",
   "mimetype": "text/x-python",
   "name": "python",
   "nbconvert_exporter": "python",
   "pygments_lexer": "ipython3",
   "version": "3.10.0"
  }
 },
 "nbformat": 4,
 "nbformat_minor": 5
}
