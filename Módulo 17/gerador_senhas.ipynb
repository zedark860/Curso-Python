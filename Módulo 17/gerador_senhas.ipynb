{
 "cells": [
  {
   "cell_type": "markdown",
   "id": "74b1c214-34d8-43a1-867b-1055887eca93",
   "metadata": {},
   "source": [
    "Escreva um programa que gere uma senha aleatória com um determinado comprimento. A senha deve conter uma mistura de letras, números e caracteres especiais. O comprimento da senha deve ser fornecido pelo usuário. Se o comprimento for menor que 4, imprima uma mensagem de erro e peça ao usuário para fornecer um novo comprimento.\n",
    "\n",
    "A senha deve ser aleatória, então cada vez que o usuário executar o programa, uma nova senha deve ser gerada. Obrigatoriamente, a senha deve conter pelo menos uma letra, um número e um caractere especial. A senha não pode conter espaços em branco.\n",
    "\n",
    "O programa deve conter uma função chamada `gerar_senha` que recebe o comprimento da senha como parâmetro e retorna a senha gerada. Se o comprimento for inválido, a função deve retornar None.\n",
    "\n",
    "Exemplo de saída:\n",
    "\n",
    "```\n",
    "Digite o comprimento da senha: 10\n",
    "8Zn$*2q9X\n",
    "```\n",
    "\n",
    "- Dica: use a biblioteca random e a função shuffle para embaralhar os caracteres da senha.\n",
    "- Dica: use a função choice, dessa mesma biblioteca, para escolher um caractere aleatório de uma string.\n",
    "- Dica: use a biblioteca string para obter uma lista de caracteres válidos para a senha."
   ]
  },
  {
   "cell_type": "code",
   "execution_count": null,
   "metadata": {},
   "outputs": [],
   "source": [
    "import numpy as np\n",
    "import string\n",
    "\n",
    "def gerar_senha():\n",
    "        \n",
    "    while True:\n",
    "        try:\n",
    "            tamanho_senha = int(input('Digite o tamanho da senha, apenas números: ').strip())\n",
    "\n",
    "            if tamanho_senha > 0:\n",
    "                break\n",
    "            else:\n",
    "                print('O tamanho da senha tem que ser um número positivo, por favor digite novamente')\n",
    "\n",
    "        except ValueError:\n",
    "            print('O que você digitou não é um número. Tente novamente.')\n",
    "\n",
    "    str_aleatorio = string.ascii_lowercase + string.ascii_uppercase + string.digits + string.punctuation\n",
    "\n",
    "    array = tamanho_senha\n",
    "\n",
    "    teste = np.random.choice(list(str_aleatorio), array)\n",
    "\n",
    "    senha_aleatoria = ''.join(teste)\n",
    "\n",
    "    return senha_aleatoria\n",
    "\n",
    "try:\n",
    "    while True:\n",
    "        senha_aleatoria = gerar_senha()\n",
    "\n",
    "        print(f'Senha aleatória gerada: {senha_aleatoria}')\n",
    "\n",
    "        opcao = input('Deseja adquirir outra senha? Digite sim ou não: ').strip().lower()\n",
    "\n",
    "        if opcao == 'não':\n",
    "            print('Programa encerrado.')\n",
    "            break\n",
    "        elif opcao == 'sair':\n",
    "            print('Programa encerrado.')\n",
    "            break\n",
    "        elif opcao != 'sim':\n",
    "            print('Opção inválida. Tente novamente.')\n",
    "\n",
    "except ValueError:\n",
    "    print('O que você digitou não é um número válido. Programa encerrado.')\n",
    "\n",
    "finally:\n",
    "    print('O programa foi encerrado corretamente. Obrigado por utilizar o gerador de senhas')\n"
   ]
  },
  {
   "cell_type": "code",
   "execution_count": 6,
   "metadata": {},
   "outputs": [
    {
     "name": "stdout",
     "output_type": "stream",
     "text": [
      "MSZTIV@~8%\n",
      "wu$C;i2yxY@Md%)\n",
      "=^]?!>F@DKhw'\n",
      "~j)9#`=Y0@mrF\n",
      "O valor digitado está incorreto ou não é um número.\n"
     ]
    }
   ],
   "source": [
    "import random\n",
    "import string\n",
    "\n",
    "def gerar_senha(tamanho_senha):\n",
    "    \"\"\"\n",
    "    Gera uma senha aleatória com base em caracteres ASCII.\n",
    "\n",
    "    Parameters:\n",
    "    ----------\n",
    "    - tamanho_senha (int): O comprimento desejado para a senha.\n",
    "\n",
    "    Return:\n",
    "    ------\n",
    "    - str: Uma senha aleatória contendo letras maiúsculas, minúsculas, dígitos e pontuações.\n",
    "    \"\"\"\n",
    "    # Define uma string contendo todos os caracteres possíveis para a senha\n",
    "    string_senha = string.ascii_letters+ string.digits + string.punctuation\n",
    "    \n",
    "    # Gera uma lista aleatória de caracteres da string_senha com o tamanho especificado\n",
    "    gerar_senha_aleatoria = random.sample(string_senha, tamanho_senha)\n",
    "    \n",
    "    # Converte a lista de caracteres em uma string\n",
    "    gerar_senha_aleatoria = ''.join(gerar_senha_aleatoria)\n",
    "    \n",
    "    # Retorna a senha gerada\n",
    "    return gerar_senha_aleatoria\n",
    "\n",
    "try:\n",
    "    while True:\n",
    "        # Solicita ao usuário que digite o tamanho desejado para a senha\n",
    "        tamanho_senha = int(input('Digite o tamanho da senha, com pelos menos 4 caracteres: '))\n",
    "        \n",
    "        # Verifica se o tamanho da senha é válido\n",
    "        if tamanho_senha < 4:\n",
    "            print('A senha deve possuir 4 ou mais dígitos, por favor, digite novamente')\n",
    "            continue\n",
    "        \n",
    "        # Imprime a senha gerada\n",
    "        print(gerar_senha(tamanho_senha))\n",
    "        \n",
    "        # Pergunta ao usuário se deseja encerrar o programa\n",
    "        opcao_sair = input('Deseja encerrar o programa? ').strip().lower()\n",
    "        \n",
    "        # Verifica se o usuário deseja encerrar o programa\n",
    "        if opcao_sair.lower() in ['sim', 's', 'yes', 'y']:\n",
    "            print('Programa encerrado. Obrigado por usar!')\n",
    "            break\n",
    "except ValueError:\n",
    "    print('O valor digitado está incorreto ou não é um número.')\n"
   ]
  },
  {
   "cell_type": "code",
   "execution_count": 10,
   "metadata": {},
   "outputs": [
    {
     "name": "stdout",
     "output_type": "stream",
     "text": [
      "[C}jkNnt%i\n"
     ]
    }
   ],
   "source": [
    "def gerar_senha1(tamanho):\n",
    "    if tamanho < 4:\n",
    "        print('O tamanho da senha deve ser de pelo menos 4 caracteres')\n",
    "    else:\n",
    "        senha = [\n",
    "            random.choice(string.ascii_letters),\n",
    "            random.choice(string.digits),\n",
    "            random.choice(string.punctuation)\n",
    "        ]\n",
    "\n",
    "        possibilidades = ''.join([string.ascii_letters, string.digits, string.punctuation])\n",
    "        # Juntar várias string, use o join, pois é melhor em performace\n",
    "        senha.extend(random.choices(possibilidades, tamanho-3))\n",
    "\n",
    "        random.shuffle(senha)\n",
    "        return ''.join(senha)\n",
    "\n",
    "tamanho = int(input('Digite o comprimento da senha: '))\n",
    "print(gerar_senha(tamanho))"
   ]
  }
 ],
 "metadata": {
  "kernelspec": {
   "display_name": "Python 3 (ipykernel)",
   "language": "python",
   "name": "python3"
  },
  "language_info": {
   "codemirror_mode": {
    "name": "ipython",
    "version": 3
   },
   "file_extension": ".py",
   "mimetype": "text/x-python",
   "name": "python",
   "nbconvert_exporter": "python",
   "pygments_lexer": "ipython3",
   "version": "3.10.0"
  }
 },
 "nbformat": 4,
 "nbformat_minor": 5
}
