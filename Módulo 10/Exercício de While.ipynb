{
 "cells": [
  {
   "cell_type": "markdown",
   "metadata": {},
   "source": [
    "# Exercícios\n",
    "\n",
    "## 1. Input até o usuário parar\n",
    "\n",
    "Vamos criar um sistema de vendas. Nosso programa deve registrar os produtos e as quantidades (2 inputs) e adicionar em uma lista.\n",
    "\n",
    "O programa deve continuar rodando até o input ser vazio, ou seja, o usuário apertar enter sem digitar nenhum produto ou quantidade.\n",
    "\n",
    "Ao final do programa, ele deve printar todos os produtos e quantidades vendidas.\n",
    "\n",
    "Obs: Caso queira, para o print ficar mais visual, pode usar o join para cada item ser printado em uma linha.\n",
    "Sugestão para sua lista de produtos vendidos:"
   ]
  },
  {
   "cell_type": "raw",
   "metadata": {},
   "source": [
    "vendas = [\n",
    "    ['maçã', 5],\n",
    "    ['banana', 15],\n",
    "    ['azeite', 1],\n",
    "    ['vinho', 3],\n",
    "]"
   ]
  },
  {
   "cell_type": "code",
   "execution_count": 8,
   "metadata": {},
   "outputs": [
    {
     "name": "stdout",
     "output_type": "stream",
     "text": [
      "Você não digitou nada nos campos inicie o programa novamente!\n",
      "Sua lista de vendas é essa []\n"
     ]
    }
   ],
   "source": [
    "#seu código aqui\n",
    "vendas = []\n",
    "\n",
    "item = str(input('Digite o item da sua compra: ').strip())\n",
    "quantidade = str(input('Digite a quantidade desse item: ').strip())\n",
    "\n",
    "if item != '' and quantidade != '':\n",
    "\n",
    "    while item != '' and quantidade != '':\n",
    "        vendas.append((item, int(quantidade)))\n",
    "        opcao = str(input('Deseja continuar? ').strip().upper())\n",
    "\n",
    "        if opcao != 'SIM':\n",
    "            break\n",
    "\n",
    "        item = str(input('Digite o item da sua compra: ').strip())\n",
    "        quantidade = int(input('Digite a quantidade desse item: ').strip())\n",
    "\n",
    "else:\n",
    "    print('Você não digitou nada nos campos inicie o programa novamente!')\n",
    "    \n",
    "print(f'Sua lista de vendas é essa {vendas}')"
   ]
  },
  {
   "cell_type": "code",
   "execution_count": null,
   "metadata": {},
   "outputs": [],
   "source": [
    "vendas = []\n",
    "\n",
    "while True:\n",
    "    item = input('Digite o item da sua compra (ou deixe em branco para encerrar): ').strip()\n",
    "    if item == '':\n",
    "        break\n",
    "    \n",
    "    quantidade = input('Digite a quantidade desse item: ')\n",
    "    \n",
    "    if not quantidade.isdigit():\n",
    "        print('A quantidade deve ser um número inteiro. Por favor, insira um valor válido.')\n",
    "        continue\n",
    "    \n",
    "    vendas.append((item, int(quantidade)))\n",
    "    \n",
    "    opcao = input('Deseja continuar (sim/não)? ').strip().lower()\n",
    "    if opcao != 'sim':\n",
    "        break\n",
    "\n",
    "if not vendas:\n",
    "    print('Você não digitou nenhuma venda. Encerrando o programa.')\n",
    "else:\n",
    "    print('Sua lista de vendas é a seguinte:')\n",
    "    for item, quantidade in vendas:\n",
    "        print(f'Item: {item}, Quantidade: {quantidade}')"
   ]
  },
  {
   "cell_type": "code",
   "execution_count": null,
   "metadata": {},
   "outputs": [],
   "source": [
    "vendas = []\n",
    "\n",
    "while True:\n",
    "    item = str(input('Digite o item da sua compra: ').strip())\n",
    "    if not item or quantidade:\n",
    "        break\n",
    "    quantidade = int(input('Digite a quantidade desse item: ').strip())\n",
    "    vendas.append([item, quantidade])\n",
    "\n",
    "print(vendas)"
   ]
  },
  {
   "cell_type": "code",
   "execution_count": null,
   "metadata": {},
   "outputs": [],
   "source": [
    "vendas = []"
   ]
  },
  {
   "cell_type": "markdown",
   "metadata": {},
   "source": [
    "### Obs: Podemos fazer o While de 2 maneiras:\n",
    "\n",
    "1. While com a condição que finalize o programa\n",
    "2. While rodando para sempre, mas com uma condição dentro do while que dê um break no código.\n",
    "\n",
    "Vamos mostrar as 2 opções"
   ]
  }
 ],
 "metadata": {
  "kernelspec": {
   "display_name": "Python 3",
   "language": "python",
   "name": "python3"
  },
  "language_info": {
   "codemirror_mode": {
    "name": "ipython",
    "version": 3
   },
   "file_extension": ".py",
   "mimetype": "text/x-python",
   "name": "python",
   "nbconvert_exporter": "python",
   "pygments_lexer": "ipython3",
   "version": "3.10.0"
  }
 },
 "nbformat": 4,
 "nbformat_minor": 4
}
