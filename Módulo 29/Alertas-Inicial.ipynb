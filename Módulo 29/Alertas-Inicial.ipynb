{
 "cells": [
  {
   "cell_type": "markdown",
   "id": "367cd714",
   "metadata": {},
   "source": [
    "### Documentação Selenium:\n",
    "\n",
    "- https://selenium-python.readthedocs.io/locating-elements.html"
   ]
  },
  {
   "cell_type": "code",
   "execution_count": 1,
   "id": "4e28f9f7",
   "metadata": {},
   "outputs": [],
   "source": [
    "from selenium import webdriver\n",
    "from selenium.webdriver.chrome.service import Service\n",
    "from webdriver_manager.chrome import ChromeDriverManager\n",
    "from selenium.webdriver.common.by import By\n",
    "\n",
    "servico = Service(ChromeDriverManager().install())\n",
    "navegador = webdriver.Chrome(service=servico)"
   ]
  },
  {
   "cell_type": "code",
   "execution_count": 3,
   "id": "59c8398d",
   "metadata": {},
   "outputs": [],
   "source": [
    "import os\n",
    "\n",
    "caminho = os.getcwd()\n",
    "arquivo = caminho + r\"\\alertas.html\"\n",
    "navegador.get(arquivo)"
   ]
  },
  {
   "cell_type": "markdown",
   "id": "7d964ce5",
   "metadata": {},
   "source": [
    "#### Alertas Básicos"
   ]
  },
  {
   "cell_type": "code",
   "execution_count": 5,
   "id": "09f60749",
   "metadata": {},
   "outputs": [],
   "source": [
    "# selecionar um alerta\n",
    "navegador.find_element(By.XPATH, \"/html/body/div[1]/input\").click()"
   ]
  },
  {
   "cell_type": "code",
   "execution_count": 15,
   "id": "73fadceb",
   "metadata": {},
   "outputs": [],
   "source": [
    "# forma simples\n",
    "alerta = navegador.switch_to.alert\n",
    "\n",
    "# forma \"completa\"\n",
    "from selenium.webdriver.common.alert import Alert\n",
    "alerta = Alert(navegador)"
   ]
  },
  {
   "cell_type": "code",
   "execution_count": 7,
   "id": "30537925",
   "metadata": {},
   "outputs": [],
   "source": [
    "alerta.accept()"
   ]
  },
  {
   "cell_type": "markdown",
   "id": "34631cac",
   "metadata": {},
   "source": [
    "#### Alertas de Confirmação"
   ]
  },
  {
   "cell_type": "code",
   "execution_count": 13,
   "id": "3594b247",
   "metadata": {},
   "outputs": [],
   "source": [
    "navegador.find_element(By.XPATH, \"/html/body/div[2]/input\").click()"
   ]
  },
  {
   "cell_type": "code",
   "execution_count": 12,
   "id": "c656438a",
   "metadata": {},
   "outputs": [],
   "source": [
    "# aceitar\n",
    "alerta = navegador.switch_to.alert\n",
    "alerta = Alert(navegador)\n",
    "alerta.accept()\n",
    "\n",
    "\n",
    "# cancelar\n",
    "alerta = navegador.switch_to.alert\n",
    "alerta = Alert(navegador)\n",
    "alerta.dismiss()"
   ]
  },
  {
   "cell_type": "markdown",
   "id": "68a498a9",
   "metadata": {},
   "source": [
    "#### Pegar o texto do alerta"
   ]
  },
  {
   "cell_type": "code",
   "execution_count": 17,
   "id": "84f67d69",
   "metadata": {},
   "outputs": [
    {
     "name": "stdout",
     "output_type": "stream",
     "text": [
      "Quer confirmar a emissão da NF?\n"
     ]
    }
   ],
   "source": [
    "alerta = Alert(navegador)\n",
    "texto = alerta.text\n",
    "print(texto)"
   ]
  },
  {
   "cell_type": "markdown",
   "id": "c8d5a4d8",
   "metadata": {},
   "source": [
    "#### Alertas de Input"
   ]
  },
  {
   "cell_type": "code",
   "execution_count": 18,
   "id": "79998e3f",
   "metadata": {},
   "outputs": [],
   "source": [
    "navegador.find_element(By.XPATH, \"/html/body/div[3]/button\").click()"
   ]
  },
  {
   "cell_type": "code",
   "execution_count": 19,
   "id": "5eebaa32",
   "metadata": {},
   "outputs": [],
   "source": [
    "alerta = Alert(navegador)"
   ]
  },
  {
   "cell_type": "code",
   "execution_count": 20,
   "id": "69c2a6f7",
   "metadata": {},
   "outputs": [],
   "source": [
    "# Ele digita, porém fica invisível!(Isso é um bug)\n",
    "alerta.send_keys(\"123.123.123-12\")"
   ]
  },
  {
   "cell_type": "code",
   "execution_count": 21,
   "id": "aba8f959",
   "metadata": {},
   "outputs": [],
   "source": [
    "alerta.accept()"
   ]
  }
 ],
 "metadata": {
  "kernelspec": {
   "display_name": "Python 3 (ipykernel)",
   "language": "python",
   "name": "python3"
  },
  "language_info": {
   "codemirror_mode": {
    "name": "ipython",
    "version": 3
   },
   "file_extension": ".py",
   "mimetype": "text/x-python",
   "name": "python",
   "nbconvert_exporter": "python",
   "pygments_lexer": "ipython3",
   "version": "3.12.2"
  }
 },
 "nbformat": 4,
 "nbformat_minor": 5
}
