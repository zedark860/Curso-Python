{
 "cells": [
  {
   "cell_type": "code",
   "execution_count": 5,
   "id": "4e28f9f7",
   "metadata": {},
   "outputs": [],
   "source": [
    "from selenium import webdriver\n",
    "from selenium.webdriver.chrome.service import Service\n",
    "from webdriver_manager.chrome import ChromeDriverManager\n",
    "\n",
    "servico = Service(ChromeDriverManager().install())\n",
    "navegador = webdriver.Chrome(service=servico)"
   ]
  },
  {
   "cell_type": "code",
   "execution_count": 6,
   "id": "59c8398d",
   "metadata": {},
   "outputs": [],
   "source": [
    "import os\n",
    "\n",
    "# pega o caminho da pasta\n",
    "# caminho = os.getcwd()\n",
    "# contatena o caminho com nome do arquivo\n",
    "# arquivo = caminho + r\"\\Pagina Hashtag.html\"\n",
    "# abre a página no google\n",
    "navegador.get(\"https://www.hashtagtreinamentos.com/cursos-hashtag-treinamentos\")"
   ]
  },
  {
   "cell_type": "code",
   "execution_count": 7,
   "id": "25228a28",
   "metadata": {},
   "outputs": [],
   "source": [
    "from selenium.webdriver.common.by import By\n",
    "\n",
    "navegador.find_elements # lista\n",
    "# comece selecionando pelo ID\n",
    "campo_nome = navegador.find_element(By.ID, \"firstname\") # 1 item\n",
    "campo_nome.send_keys(\"Davi\") # escreve o nome\n",
    "\n",
    "campo_email = navegador.find_element(By.ID, \"email\")\n",
    "campo_email.send_keys(\"teste@gmail.com\")\n",
    "\n",
    "botao_enviar = navegador.find_element(By.CLASS_NAME, \"botao-formulario-newsletter\")\n",
    "botao_enviar.click()\n",
    "\n",
    "# outra forma de fazer \n",
    "# navegador.find_element(By.ID, \"firstname\").send_keys(\"Davi\")\n",
    "# navegador.find_element(By.ID, \"email\").send_keys(\"teste@gmail.com\")\n",
    "# navegador.find_element(By.CLASS_NAME, \"botao-formulario-newsletter\").click()"
   ]
  }
 ],
 "metadata": {
  "kernelspec": {
   "display_name": "Python 3 (ipykernel)",
   "language": "python",
   "name": "python3"
  },
  "language_info": {
   "codemirror_mode": {
    "name": "ipython",
    "version": 3
   },
   "file_extension": ".py",
   "mimetype": "text/x-python",
   "name": "python",
   "nbconvert_exporter": "python",
   "pygments_lexer": "ipython3",
   "version": "3.12.2"
  }
 },
 "nbformat": 4,
 "nbformat_minor": 5
}
