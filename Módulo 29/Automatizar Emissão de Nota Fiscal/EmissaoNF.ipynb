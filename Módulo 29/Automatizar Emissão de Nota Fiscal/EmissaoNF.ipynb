{
 "cells": [
  {
   "cell_type": "code",
   "execution_count": 9,
   "id": "e7f58f11",
   "metadata": {},
   "outputs": [],
   "source": [
    "import os\n",
    "import pandas as pd\n",
    "import time\n",
    "from selenium import webdriver\n",
    "from selenium.webdriver.chrome.service import Service\n",
    "from webdriver_manager.chrome import ChromeDriverManager\n",
    "from selenium.webdriver.common.by import By\n",
    "from selenium.webdriver.support.ui import Select\n",
    "\n",
    "caminho = os.getcwd()\n",
    "\n",
    "options = webdriver.ChromeOptions()\n",
    "options.add_experimental_option(\"prefs\", {\n",
    "  \"download.default_directory\": fr\"{caminho}\\notas_ficais\",\n",
    "  \"download.prompt_for_download\": False,\n",
    "  \"download.directory_upgrade\": True,\n",
    "  \"safebrowsing.enabled\": True\n",
    "})\n",
    "\n",
    "servico = Service(ChromeDriverManager().install())\n",
    "navegador = webdriver.Chrome(service=servico, options=options)"
   ]
  },
  {
   "cell_type": "code",
   "execution_count": 10,
   "id": "ee3f4e27",
   "metadata": {},
   "outputs": [],
   "source": [
    "arquivo = caminho + r\"\\login.html\"\n",
    "navegador.get(arquivo)"
   ]
  },
  {
   "cell_type": "code",
   "execution_count": 11,
   "id": "16811d38",
   "metadata": {},
   "outputs": [],
   "source": [
    "# preencher login e senha\n",
    "\n",
    "navegador.find_element(By.XPATH, \"/html/body/div/form/input[1]\").send_keys(\"Teste\")\n",
    "navegador.find_element(By.XPATH, \"/html/body/div/form/input[2]\").send_keys(\"123\")\n",
    "navegador.find_element(By.XPATH, \"/html/body/div/form/button\").click()"
   ]
  },
  {
   "cell_type": "code",
   "execution_count": null,
   "id": "e01dc48c",
   "metadata": {},
   "outputs": [],
   "source": [
    "# importando base de clientes\n",
    "\n",
    "tabela = caminho + r\"\\NotasEmitir.xlsx\"\n",
    "tabela = pd.read_excel(tabela)\n",
    "tabela = tabela.applymap(str)\n",
    "\n",
    "# preencher dados da NF e clicar para enviar\n",
    "for linha in tabela.index:\n",
    "    navegador.find_element(By.ID, \"nome\").send_keys(tabela.loc[linha, \"Cliente\"])\n",
    "    time.sleep(0.5)\n",
    "\n",
    "    navegador.find_element(By.NAME, \"endereco\").send_keys(tabela.loc[linha, \"Endereço\"])\n",
    "    time.sleep(0.5)\n",
    "\n",
    "    navegador.find_element(By.NAME, \"bairro\").send_keys(tabela.loc[linha, \"Bairro\"])\n",
    "    time.sleep(0.5)\n",
    "\n",
    "    navegador.find_element(By.NAME, \"municipio\").send_keys(tabela.loc[linha, \"Municipio\"])\n",
    "    time.sleep(0.5)\n",
    "\n",
    "    navegador.find_element(By.NAME, \"cep\").send_keys(tabela.loc[linha, \"CEP\"])\n",
    "    time.sleep(0.5)\n",
    "\n",
    "    campo_uf = Select(navegador.find_element(By.NAME, \"uf\"))\n",
    "    campo_uf.select_by_visible_text(tabela.loc[linha, \"UF\"])\n",
    "    time.sleep(0.5)\n",
    "\n",
    "    navegador.find_element(By.NAME, \"cnpj\").send_keys(tabela.loc[linha, \"CPF/CNPJ\"])\n",
    "    time.sleep(0.5)\n",
    "\n",
    "    navegador.find_element(By.NAME, \"inscricao\").send_keys(tabela.loc[linha, \"Inscricao Estadual\"])\n",
    "    time.sleep(0.5)\n",
    "\n",
    "    navegador.find_element(By.NAME, \"descricao\").send_keys(tabela.loc[linha, \"Descrição\"])\n",
    "    time.sleep(0.5)\n",
    "\n",
    "    navegador.find_element(By.NAME, \"quantidade\").send_keys(tabela.loc[linha, \"Quantidade\"])\n",
    "    time.sleep(0.5)\n",
    "\n",
    "    navegador.find_element(By.NAME, \"valor_unitario\").send_keys(tabela.loc[linha, \"Valor Unitario\"])\n",
    "    time.sleep(0.5)\n",
    "\n",
    "    navegador.find_element(By.NAME, \"total\").send_keys(tabela.loc[linha, \"Valor Total\"])\n",
    "    time.sleep(0.5)\n",
    "\n",
    "    navegador.find_element(By.CLASS_NAME, \"registerbtn\").click()\n",
    "    time.sleep(0.5)\n",
    "\n",
    "    navegador.refresh()\n",
    "    time.sleep(1)"
   ]
  }
 ],
 "metadata": {
  "kernelspec": {
   "display_name": "Python 3 (ipykernel)",
   "language": "python",
   "name": "python3"
  },
  "language_info": {
   "codemirror_mode": {
    "name": "ipython",
    "version": 3
   },
   "file_extension": ".py",
   "mimetype": "text/x-python",
   "name": "python",
   "nbconvert_exporter": "python",
   "pygments_lexer": "ipython3",
   "version": "3.12.2"
  }
 },
 "nbformat": 4,
 "nbformat_minor": 5
}
