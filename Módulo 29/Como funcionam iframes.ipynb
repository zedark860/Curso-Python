{
 "cells": [
  {
   "cell_type": "markdown",
   "id": "34ad00aa",
   "metadata": {},
   "source": [
    "### iFrames - Atualização\n",
    "\n",
    "- Às vezes, você vai fazer tudo certo no Selenium e aparentemente não vai funcionar o seu código\n",
    "\n",
    "- Possivelmente o elemento que você está tentando selecionar está dentro de um iframe"
   ]
  },
  {
   "cell_type": "code",
   "execution_count": 1,
   "id": "7bd311e0",
   "metadata": {},
   "outputs": [],
   "source": [
    "# Queremos pegar o pontos por jogo mandante da 1ª linha da tabela\n",
    "\n",
    "link = \"https://pbdatatrader.com.br/jogosdodia\"\n",
    "\n",
    "# Normalmente:\n",
    "from selenium import webdriver\n",
    "from selenium.webdriver.chrome.service import Service\n",
    "from webdriver_manager.chrome import ChromeDriverManager\n",
    "from selenium.webdriver.common.by import By\n",
    "\n",
    "servico = Service(ChromeDriverManager().install())\n",
    "navegador = webdriver.Chrome(service=servico)"
   ]
  },
  {
   "cell_type": "code",
   "execution_count": 13,
   "id": "195be655",
   "metadata": {},
   "outputs": [
    {
     "name": "stdout",
     "output_type": "stream",
     "text": [
      "1,00\n"
     ]
    }
   ],
   "source": [
    "import time\n",
    "\n",
    "navegador.get(link)\n",
    "time.sleep(10)\n",
    "\n",
    "iframe = navegador.find_element(By.TAG_NAME, 'iframe')\n",
    "navegador.switch_to.frame(iframe)\n",
    "\n",
    "iframe = navegador.find_element(By.TAG_NAME, 'iframe')\n",
    "navegador.switch_to.frame(iframe)\n",
    "\n",
    "texto = navegador.find_element(By.XPATH, '//*[@id=\"pvExplorationHost\"]/div/div/exploration/div/explore-canvas/div/div[2]/div/div[2]/div[2]/visual-container-repeat/visual-container[19]/transform/div/div[3]/div/div/visual-modern/div/div/div[2]/div[1]/div[2]/div/div[1]/div/div/div[8]').text\n",
    "print(texto)"
   ]
  },
  {
   "cell_type": "code",
   "execution_count": 7,
   "id": "14c039ae",
   "metadata": {},
   "outputs": [
    {
     "name": "stdout",
     "output_type": "stream",
     "text": [
      "2\n"
     ]
    }
   ],
   "source": [
    "# checando para verificar se o site tem iframe\n",
    "\n",
    "lista_iframes = navegador.find_elements(By.TAG_NAME, \"iframe\")\n",
    "print(len(lista_iframes))"
   ]
  },
  {
   "cell_type": "code",
   "execution_count": null,
   "id": "f1027da2",
   "metadata": {},
   "outputs": [],
   "source": []
  }
 ],
 "metadata": {
  "kernelspec": {
   "display_name": "Python 3 (ipykernel)",
   "language": "python",
   "name": "python3"
  },
  "language_info": {
   "codemirror_mode": {
    "name": "ipython",
    "version": 3
   },
   "file_extension": ".py",
   "mimetype": "text/x-python",
   "name": "python",
   "nbconvert_exporter": "python",
   "pygments_lexer": "ipython3",
   "version": "3.12.2"
  }
 },
 "nbformat": 4,
 "nbformat_minor": 5
}
