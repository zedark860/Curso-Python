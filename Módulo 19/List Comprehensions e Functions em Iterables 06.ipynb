{
 "cells": [
  {
   "cell_type": "markdown",
   "metadata": {},
   "source": [
    "# List Comprehension com if para escolher o resultado final\n",
    "\n",
    "### Estrutura:"
   ]
  },
  {
   "cell_type": "raw",
   "metadata": {},
   "source": [
    "lista = [item if condicao else outro_resultado for item in iterable]"
   ]
  },
  {
   "cell_type": "markdown",
   "metadata": {},
   "source": [
    "- Digamos que eu esteja analisando os vendedores de uma loja e queira criar uma lista para enviar para o RH com o bônus de cada vendedor.\n",
    "- O bônus é dado por 10% do valor de vendas dele, caso ele tenha batido a meta"
   ]
  },
  {
   "cell_type": "code",
   "execution_count": 1,
   "metadata": {},
   "outputs": [],
   "source": [
    "vendedores_dic = {'Maria': 1200, 'José': 300, 'Antônio': 800, 'João': 1500, 'Francisco': 1900, 'Ana': 2750, 'Luiz': 400, 'Paulo': 20, 'Carlos': 23, 'Manoel': 70, 'Pedro': 90, 'Francisca': 80, 'Marcos': 1100, 'Raimundo': 999, 'Sebastião': 900, 'Antônia': 880, 'Marcelo': 870, 'Jorge': 50, 'Márcia': 1111, 'Geraldo': 120, 'Adriana': 300, 'Sandra': 450, 'Luis': 800}\n",
    "meta = 1000"
   ]
  },
  {
   "cell_type": "markdown",
   "metadata": {},
   "source": [
    "- Fazendo por for"
   ]
  },
  {
   "cell_type": "code",
   "execution_count": 5,
   "metadata": {},
   "outputs": [
    {
     "name": "stdout",
     "output_type": "stream",
     "text": [
      "[(120.0, 'Maria'), (0, 'José'), (0, 'Antônio'), (150.0, 'João'), (190.0, 'Francisco'), (275.0, 'Ana'), (0, 'Luiz'), (0, 'Paulo'), (0, 'Carlos'), (0, 'Manoel'), (0, 'Pedro'), (0, 'Francisca'), (110.0, 'Marcos'), (0, 'Raimundo'), (0, 'Sebastião'), (0, 'Antônia'), (0, 'Marcelo'), (0, 'Jorge'), (111.10000000000001, 'Márcia'), (0, 'Geraldo'), (0, 'Adriana'), (0, 'Sandra'), (0, 'Luis')]\n"
     ]
    }
   ],
   "source": [
    "bonus = []\n",
    "\n",
    "for vendedor, vendas in vendedores_dic.items():\n",
    "    bonus.append((vendas * 0.1, vendedor)) if vendas > meta else bonus.append((0, vendedor))\n",
    "\n",
    "print(bonus)"
   ]
  },
  {
   "cell_type": "markdown",
   "metadata": {},
   "source": [
    "- Fazendo por List Comprehension"
   ]
  },
  {
   "cell_type": "code",
   "execution_count": 6,
   "metadata": {},
   "outputs": [
    {
     "name": "stdout",
     "output_type": "stream",
     "text": [
      "[(120.0, 'Maria'), (0, 'José'), (0, 'Antônio'), (150.0, 'João'), (190.0, 'Francisco'), (275.0, 'Ana'), (0, 'Luiz'), (0, 'Paulo'), (0, 'Carlos'), (0, 'Manoel'), (0, 'Pedro'), (0, 'Francisca'), (110.0, 'Marcos'), (0, 'Raimundo'), (0, 'Sebastião'), (0, 'Antônia'), (0, 'Marcelo'), (0, 'Jorge'), (111.10000000000001, 'Márcia'), (0, 'Geraldo'), (0, 'Adriana'), (0, 'Sandra'), (0, 'Luis')]\n"
     ]
    }
   ],
   "source": [
    "bonus = [(vendas * 0.1, vendedor) if vendas > meta else (0, vendedor) for vendedor, vendas, in vendedores_dic.items()]\n",
    "\n",
    "print(bonus)"
   ]
  }
 ],
 "metadata": {
  "kernelspec": {
   "display_name": "Python 3",
   "language": "python",
   "name": "python3"
  },
  "language_info": {
   "codemirror_mode": {
    "name": "ipython",
    "version": 3
   },
   "file_extension": ".py",
   "mimetype": "text/x-python",
   "name": "python",
   "nbconvert_exporter": "python",
   "pygments_lexer": "ipython3",
   "version": "3.10.0"
  }
 },
 "nbformat": 4,
 "nbformat_minor": 4
}
