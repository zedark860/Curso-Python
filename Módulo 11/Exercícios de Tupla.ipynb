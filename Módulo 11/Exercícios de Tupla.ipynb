{
 "cells": [
  {
   "cell_type": "markdown",
   "metadata": {},
   "source": [
    "# Exercícios\n",
    "\n",
    "São exercícios bem parecidos com os que fizemos com listas. Mas na tupla, podemos não só trabalhar com índices, mas fazer o \"unpacking\" das tuplas, o que pode facilitar nossos códigos.\n",
    "\n",
    "## 1. Análise de Vendas\n",
    "\n",
    "Nesse exercício vamos fazer uma \"análise simples\" de atingimento de Meta.\n",
    "\n",
    "Temos uma lista com os vendedores e os valores de vendas e queremos identificar (printar) quais os vendedores que bateram a meta e qual foi o valor que eles venderam."
   ]
  },
  {
   "cell_type": "code",
   "execution_count": 7,
   "metadata": {},
   "outputs": [
    {
     "name": "stdout",
     "output_type": "stream",
     "text": [
      "A meta foi batida por João e vendeu 15000\n",
      "A meta foi batida por Julia e vendeu 27000\n",
      "A meta foi batida por Ana e vendeu 10300\n"
     ]
    }
   ],
   "source": [
    "meta = 10000\n",
    "vendas = [\n",
    "    ('João', 15000),\n",
    "    ('Julia', 27000),\n",
    "    ('Marcus', 9900),\n",
    "    ('Maria', 3750),\n",
    "    ('Ana', 10300),\n",
    "    ('Alon', 7870),\n",
    "]\n",
    "\n",
    "for vendedores, quantidade_vendida in vendas:\n",
    "    if quantidade_vendida >= meta:\n",
    "        print(f'A meta foi batida por {vendedores} e vendeu {quantidade_vendida}')"
   ]
  },
  {
   "cell_type": "markdown",
   "metadata": {},
   "source": [
    "## 2. Comparação com Ano Anterior\n",
    "\n",
    "Digamos que você está analisando as vendas de produtos de um ecommerce e quer identificar quais produtos tiveram no ano de 2020 mais vendas do que no ano de 2019, para reportar isso para a diretoria.\n",
    "\n",
    "Sua resposta pode ser um print de cada produto, qual foi a venda de 2019, a venda de 2020 e o % de crescimento de 2020 para 2019.\n",
    "\n",
    "Lembrando, para calcular o % de crescimento de um produto de um ano para o outro, podemos fazer: (vendas_produto2020/vendas_produto2019 - 1)\n",
    "\n",
    "A lógica da tupla é: (produto, vendas2019, vendas2020)"
   ]
  },
  {
   "cell_type": "code",
   "execution_count": 13,
   "metadata": {},
   "outputs": [
    {
     "name": "stdout",
     "output_type": "stream",
     "text": [
      "A venda do produto iphone em 2019 foi 558147 e em 2020 foi 951642 tendo um crescimento de 70.5%\n",
      "\n",
      "A venda do produto tv em 2019 foi 405252 e em 2020 foi 787604 tendo um crescimento de 94.3%\n",
      "\n",
      "A venda do produto máquina de café em 2019 foi 718654 e em 2020 foi 867660 tendo um crescimento de 20.7%\n",
      "\n",
      "A venda do produto notebook dell em 2019 foi 422760 e em 2020 foi 694913 tendo um crescimento de 64.4%\n",
      "\n",
      "A venda do produto notebook hp em 2019 foi 154753 e em 2020 foi 539704 tendo um crescimento de 248.8%\n",
      "\n",
      "A venda do produto microsoft surface em 2019 foi 438508 e em 2020 foi 667179 tendo um crescimento de 52.1%\n",
      "\n",
      "A venda do produto webcam em 2019 foi 237467 e em 2020 foi 295633 tendo um crescimento de 24.5%\n",
      "\n",
      "A venda do produto caixa de som em 2019 foi 489705 e em 2020 foi 725316 tendo um crescimento de 48.1%\n",
      "\n",
      "A venda do produto microfone em 2019 foi 328311 e em 2020 foi 644622 tendo um crescimento de 96.3%\n",
      "\n",
      "A venda do produto câmera canon em 2019 foi 591120 e em 2020 foi 994303 tendo um crescimento de 68.2%\n",
      "\n"
     ]
    }
   ],
   "source": [
    "vendas_produtos = [('iphone', 558147, 951642), ('galaxy', 712350, 244295), ('ipad', 573823, 26964), ('tv', 405252, 787604), ('máquina de café', 718654, 867660), ('kindle', 531580, 78830), ('geladeira', 973139, 710331), ('adega', 892292, 646016), ('notebook dell', 422760, 694913), ('notebook hp', 154753, 539704), ('notebook asus', 887061, 324831), ('microsoft surface', 438508, 667179), ('webcam', 237467, 295633), ('caixa de som', 489705, 725316), ('microfone', 328311, 644622), ('câmera canon', 591120, 994303)]\n",
    "\n",
    "for produto, vendas2019, vendas2020 in vendas_produtos:\n",
    "    if vendas2020 > vendas2019:\n",
    "        crescimento = (vendas2020 / vendas2019) - 1\n",
    "        print(f'A venda do produto {produto} em 2019 foi {vendas2019} e em 2020 foi {vendas2020} tendo um crescimento de {crescimento:.1%}\\n')\n"
   ]
  },
  {
   "cell_type": "code",
   "execution_count": 9,
   "metadata": {},
   "outputs": [
    {
     "name": "stdout",
     "output_type": "stream",
     "text": [
      "O produto iphone teve um crescimento de 70.50% (2019: 558147, 2020: 951642)\n",
      "\n",
      "O produto tv teve um crescimento de 94.35% (2019: 405252, 2020: 787604)\n",
      "\n",
      "O produto máquina de café teve um crescimento de 20.73% (2019: 718654, 2020: 867660)\n",
      "\n",
      "O produto notebook dell teve um crescimento de 64.38% (2019: 422760, 2020: 694913)\n",
      "\n",
      "O produto notebook hp teve um crescimento de 248.75% (2019: 154753, 2020: 539704)\n",
      "\n",
      "O produto microsoft surface teve um crescimento de 52.15% (2019: 438508, 2020: 667179)\n",
      "\n",
      "O produto webcam teve um crescimento de 24.49% (2019: 237467, 2020: 295633)\n",
      "\n",
      "O produto caixa de som teve um crescimento de 48.11% (2019: 489705, 2020: 725316)\n",
      "\n",
      "O produto microfone teve um crescimento de 96.34% (2019: 328311, 2020: 644622)\n",
      "\n",
      "O produto câmera canon teve um crescimento de 68.21% (2019: 591120, 2020: 994303)\n",
      "\n"
     ]
    }
   ],
   "source": [
    "vendas_produtos = [('iphone', 558147, 951642), ('galaxy', 712350, 244295), ('ipad', 573823, 26964), ('tv', 405252, 787604), ('máquina de café', 718654, 867660), ('kindle', 531580, 78830), ('geladeira', 973139, 710331), ('adega', 892292, 646016), ('notebook dell', 422760, 694913), ('notebook hp', 154753, 539704), ('notebook asus', 887061, 324831), ('microsoft surface', 438508, 667179), ('webcam', 237467, 295633), ('caixa de som', 489705, 725316), ('microfone', 328311, 644622), ('câmera canon', 591120, 994303)]\n",
    "\n",
    "crescimentos = []\n",
    "\n",
    "for produto, vendas2019, vendas2020 in vendas_produtos:\n",
    "    if vendas2020 > vendas2019:\n",
    "        aumento = (vendas2020 / vendas2019 - 1) * 100\n",
    "        crescimentos.append(f'O produto {produto} teve um crescimento de {aumento:.2f}% (2019: {vendas2019}, 2020: {vendas2020})\\n')\n",
    "\n",
    "for crescimento in crescimentos:\n",
    "    print(crescimento)"
   ]
  }
 ],
 "metadata": {
  "kernelspec": {
   "display_name": "Python 3",
   "language": "python",
   "name": "python3"
  },
  "language_info": {
   "codemirror_mode": {
    "name": "ipython",
    "version": 3
   },
   "file_extension": ".py",
   "mimetype": "text/x-python",
   "name": "python",
   "nbconvert_exporter": "python",
   "pygments_lexer": "ipython3",
   "version": "3.10.0"
  }
 },
 "nbformat": 4,
 "nbformat_minor": 4
}
