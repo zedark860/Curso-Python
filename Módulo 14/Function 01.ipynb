{
 "cells": [
  {
   "cell_type": "markdown",
   "metadata": {},
   "source": [
    "# Function Python\n",
    "\n",
    "### O que é?\n",
    "\n",
    "As functions são blocos de código que servem 1 único propósito, fazem uma ação específica.\n",
    "\n",
    "### Estrutura Básica"
   ]
  },
  {
   "cell_type": "raw",
   "metadata": {},
   "source": [
    "def nome_funcao():\n",
    "    faça alguma coisa\n",
    "    faça outra coisa\n",
    "    return valor_final"
   ]
  },
  {
   "cell_type": "markdown",
   "metadata": {},
   "source": [
    "- Exemplo: vamos criar uma função de cadastro de um Produto. Essa função deve garantir que o produto cadastrado está em letra minúscula."
   ]
  },
  {
   "cell_type": "code",
   "execution_count": 3,
   "metadata": {},
   "outputs": [
    {
     "name": "stdout",
     "output_type": "stream",
     "text": [
      "Produto Feijão cadastrado com sucesso\n",
      "Sua lista de produtos atualizada ['Feijão']\n",
      "Produto Arroz cadastrado com sucesso\n",
      "Sua lista de produtos atualizada ['Feijão', 'Arroz']\n",
      "Produto Banana cadastrado com sucesso\n",
      "Sua lista de produtos atualizada ['Feijão', 'Arroz', 'Banana']\n"
     ]
    }
   ],
   "source": [
    "lista = []\n",
    "\n",
    "def cadastrar_produto():\n",
    "\n",
    "    produto = input('Digite o nome do produto que deseja cadastrar'.lower().strip())\n",
    "    print(f'Produto {produto} cadastrado com sucesso')\n",
    "    lista.append(produto)\n",
    "    print(f'Sua lista de produtos atualizada {lista}')\n",
    "\n",
    "for i in range(3):\n",
    "    cadastrar_produto()"
   ]
  }
 ],
 "metadata": {
  "kernelspec": {
   "display_name": "Python 3",
   "language": "python",
   "name": "python3"
  },
  "language_info": {
   "codemirror_mode": {
    "name": "ipython",
    "version": 3
   },
   "file_extension": ".py",
   "mimetype": "text/x-python",
   "name": "python",
   "nbconvert_exporter": "python",
   "pygments_lexer": "ipython3",
   "version": "3.10.0"
  }
 },
 "nbformat": 4,
 "nbformat_minor": 4
}
