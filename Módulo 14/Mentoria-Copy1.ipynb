{
 "cells": [
  {
   "cell_type": "markdown",
   "id": "a2fee89b",
   "metadata": {},
   "source": [
    "### Forma de pensar"
   ]
  },
  {
   "cell_type": "code",
   "execution_count": null,
   "id": "1be9db7d",
   "metadata": {},
   "outputs": [],
   "source": [
    "# coisas simples: atravessar a rua (mostrar os diferentes níveis de abstração que dá para fazer)\n",
    "\n",
    "\n",
    "# tomar café da manhã (mostrar os diferentes níveis de abstração que dá para fazer)\n",
    "\n",
    "\n",
    "# Shampoo (pegar um shampoo aqui de casa e ler)"
   ]
  },
  {
   "cell_type": "markdown",
   "id": "672e10e0",
   "metadata": {},
   "source": [
    "### Exemplo de Exercício do Curso"
   ]
  },
  {
   "cell_type": "markdown",
   "id": "fee80189",
   "metadata": {},
   "source": [
    "#### 23. Faça um Programa para uma loja de tintas. O programa deverá pedir o tamanho em metros quadrados da área a ser pintada. Considere que a cobertura da tinta é de 1 litro para cada 6 metros quadrados e que a tinta é vendida em latas de 18 litros, que custam R\\\\$ 80,00 ou em galões de 3,6 litros, que custam R\\\\$ 25,00."
   ]
  },
  {
   "cell_type": "code",
   "execution_count": 27,
   "id": "4499bb83",
   "metadata": {},
   "outputs": [
    {
     "name": "stdout",
     "output_type": "stream",
     "text": [
      "A quantidade de latas seria 3 e a quantidade de galões seria 12\n",
      "Já o custo total de latas seria R$240.00 e a custo total de galões seria R$300.00\n"
     ]
    }
   ],
   "source": [
    "import math\n",
    "\n",
    "def pegar_area_usuario():\n",
    "    area_metros = float(input('Digite o tamanho em metros da área a ser pintada: ').strip())\n",
    "    return area_metros\n",
    "\n",
    "def calcular_quantidade_tinta(area):\n",
    "    quantidade_tinta_necesaria = area / 6\n",
    "    return quantidade_tinta_necesaria\n",
    "\n",
    "def calcular_latas(area):\n",
    "    num_latas = math.ceil(calcular_quantidade_tinta(area) / 18)\n",
    "    return num_latas\n",
    "\n",
    "def calcular_galoes(area):\n",
    "    num_galoes = math.ceil(calcular_quantidade_tinta(area) / 3.6)\n",
    "    return num_galoes\n",
    "\n",
    "def custo_latas(area):\n",
    "    custo_total_latas = calcular_latas(area) * 80\n",
    "    return custo_total_latas\n",
    "\n",
    "def custo_galoes(area):\n",
    "    custo_total_galoes = calcular_galoes(area) * 25\n",
    "    return custo_total_galoes\n",
    "\n",
    "area_usuario = pegar_area_usuario()\n",
    "num_latas = calcular_latas(area_usuario)\n",
    "num_galoes = calcular_galoes(area_usuario)\n",
    "custo_latas_total = custo_latas(area_usuario)\n",
    "custo_galoes_total = custo_galoes(area_usuario)\n",
    "\n",
    "# 1 litro para cada 6 metros\n",
    "# Latas vendidas a 18 litros custam 80\n",
    "# Galões de 3,6 litros vendidos a 25\n",
    "\n",
    "print(f'A quantidade de latas seria {num_latas} e a quantidade de galões seria {num_galoes}')\n",
    "print(f'Já o custo total de latas seria R${custo_latas_total:.2f} e a custo total de galões seria R${custo_galoes_total:.2f}')"
   ]
  },
  {
   "cell_type": "code",
   "execution_count": null,
   "metadata": {},
   "outputs": [],
   "source": [
    "import math\n",
    "\n",
    "area_metros = float(input('Digite o tamanho em metros da área a ser pintada: ').strip())\n",
    "\n",
    "# 1 litro para cada 6 metros\n",
    "# Latas vendidas a 18 litros custam 80\n",
    "# Galões de 3,6 litros vendidos a 25\n",
    "\n",
    "quantidade_tinta_necesaria = area_metros / 6\n",
    "num_latas = math.ceil(quantidade_tinta_necesaria / 18)\n",
    "num_galoes = math.ceil(quantidade_tinta_necesaria / 3.6)\n",
    "custo_total_latas = num_latas * 80\n",
    "custo_total_galoes = num_galoes * 25\n",
    "\n",
    "print(f'A quantidade de latas seria {num_latas} e a quantidade de galões seria {num_galoes}')\n",
    "print(f'Já o custo total de latas seria R${custo_total_latas:.2f} e a custo total de galões seria R${custo_total_galoes:.2f}')"
   ]
  },
  {
   "cell_type": "markdown",
   "id": "0d5fa10a",
   "metadata": {},
   "source": [
    "##### Informe ao usuário as quantidades de tinta a serem compradas e os respectivos preços em 3 situações.\n",
    "\n",
    "Dica: lembre dos operadores // e % mostrados em exercícios anteriores<br>\n",
    "Dica1: numero // 10 vai te dar como resposta a parte inteira da divisão do número por 10.<br>\n",
    "Dica2: numero % 10 vai te dar o resto da divisão do número por 10.\n",
    "\n",
    "##### 1. Comprar apenas latas de 18 litros: (apenas latas inteiras)"
   ]
  },
  {
   "cell_type": "code",
   "execution_count": 28,
   "id": "bc38cdcd",
   "metadata": {},
   "outputs": [
    {
     "name": "stdout",
     "output_type": "stream",
     "text": [
      "Quantidade de latas 3\n",
      "Preço: R$240\n"
     ]
    }
   ],
   "source": [
    "def pegar_area_usuario():\n",
    "    area_metros = float(input('Digite o tamanho em metros da área a ser pintada: ').strip())\n",
    "    return area_metros\n",
    "\n",
    "def calcular_litros_precisamos(area_metros):\n",
    "    quantidade_tinta = area_metros / 6\n",
    "    return quantidade_tinta\n",
    "\n",
    "def calcular_latas(litros):\n",
    "    num_latas = litros / 18\n",
    "    if int(num_latas) != num_latas:\n",
    "        num_latas = int(num_latas) + 1\n",
    "    return num_latas\n",
    "\n",
    "def calcular_preco(num_latas):\n",
    "    preco_lata = num_latas * 80\n",
    "    return preco_lata\n",
    "\n",
    "area = pegar_area_usuario()\n",
    "litros = calcular_litros_precisamos(area)\n",
    "latas = calcular_latas(litros)\n",
    "preco = calcular_preco(latas)\n",
    "\n",
    "print(f'Quantidade de latas {latas:.0f}')\n",
    "print(f'Preço: R${preco}')"
   ]
  },
  {
   "cell_type": "markdown",
   "id": "15dc7322",
   "metadata": {},
   "source": [
    "##### 2. Comprar apenas galões de 3,6 litros: (apenas galoes inteiros)"
   ]
  },
  {
   "cell_type": "code",
   "execution_count": 16,
   "id": "6e0a01af",
   "metadata": {},
   "outputs": [
    {
     "name": "stdout",
     "output_type": "stream",
     "text": [
      "Quantidade de latas 12\n",
      "Preço: R$300\n"
     ]
    }
   ],
   "source": [
    "area_metros = float(input('Digite o tamanho em metros da área a ser pintada: ').strip())\n",
    "\n",
    "quantidade_tinta = area_metros / 6\n",
    "if quantidade_tinta % 3.6 > 0:\n",
    "    num_galoes = int(quantidade_tinta / 3.6) + 1\n",
    "else:\n",
    "    num_galoes = quantidade_tinta / 3.6\n",
    "preco_galoes = num_galoes * 25\n",
    "\n",
    "print(f'Quantidade de latas {num_galoes:.0f}')\n",
    "print(f'Preço: R${preco_galoes}')"
   ]
  },
  {
   "cell_type": "markdown",
   "id": "35e0aa11",
   "metadata": {},
   "source": [
    "##### 3. Misturar latas e galões, de forma que o desperdício de tinta seja menor. Sempre arredonde os valores para cima, isto é, considere latas cheias."
   ]
  },
  {
   "cell_type": "markdown",
   "id": "95a3d342",
   "metadata": {},
   "source": [
    "O custo da lata é 80/18 = 4,44 R\\\\$/L\n",
    "\n",
    "O custo do galão é 25/3,6 = 6,94 R\\\\$/L\n",
    "\n",
    "A lata é mais econômica, então todas as latas inteiras que pudermos usar devemos comprar em latas. Se ficar faltando alguma coisa para completar devemos avaliar se é melhor comprar latas ou galões. Exemplo:\n",
    "\n",
    "Se queremos comprar 90 litros. 5 latas dão exatamente 90 litros. Então devemos comprar tudo em latas.\n",
    "\n",
    "Se queremos comprar 95 litros. 5 latas dão exatamente 90 litros. Então devemos comprar pelo menos 5 latas e avaliar o que falta, se estes últimos 5 litros valem mais apenas em latas ou galões.\n",
    "\n",
    "Para os 5 litros faltantes precisamos de 2 galões que custam 50 reais no total. Ou de uma lata que custa 80 reais no total. Portanto, neste caso vale mais a pena usar 2 galões.\n",
    "\n",
    "Se queremos comprar 107 litros. 5 latas dão exatamente 90 litros. Então devemos comprar pelo menos 5 latas e avaliar o que falta, se estes últimos 5 litros valem mais apenas em latas ou galões.\n",
    "\n",
    "Para os 17 litros faltantes precisamos de 5 galões que custam 125 reais no total. Ou de uma lata que custa 80 reais no total. Portanto, neste caso vale mais a pena usar uma lata.\n",
    "\n",
    "3 galões custam 75 reais, 4 galões custam 100 reais. Então, se for possível completar com até 3 galões escolhe-se galões. Qualquer quantidade maior que 3 galões, usa-se latas.\n",
    "\n",
    "Podemos ir ao exercício:"
   ]
  },
  {
   "cell_type": "code",
   "execution_count": 22,
   "id": "0e9847d9",
   "metadata": {},
   "outputs": [
    {
     "name": "stdout",
     "output_type": "stream",
     "text": [
      "Latas: 2\n",
      "Galões: 2\n",
      "Preço Final: 210\n"
     ]
    }
   ],
   "source": [
    "area_metros = float(input('Digite o tamanho em metros da área a ser pintada: ').strip())\n",
    "\n",
    "litros = area_metros / 6\n",
    "latas = int(litros / 18)\n",
    "litros_faltam = litros % 18\n",
    "\n",
    "galoes = 0\n",
    "latas = 0\n",
    "if litros_faltam > 0:\n",
    "    if litros_faltam % 3.6 > 0:\n",
    "        galoes = int(litros_faltam / 3.6) + 1\n",
    "    else:\n",
    "        galoes = litros_faltam / 3.6\n",
    "\n",
    "preco_latas = latas * 80\n",
    "\n",
    "preco_galoes = galoes * 25\n",
    "if preco_galoes > 80:\n",
    "    latas += 1\n",
    "    preco_latas = latas * 80\n",
    "    galoes = 0\n",
    "    preco_galoes = 0\n",
    "\n",
    "preco_final = preco_latas + preco_galoes\n",
    "\n",
    "print(f'Latas: {latas}')\n",
    "print(f'Galões: {galoes}')\n",
    "print(f'Preço Final: {preco_final}')"
   ]
  },
  {
   "cell_type": "code",
   "execution_count": null,
   "id": "c51c27c5",
   "metadata": {},
   "outputs": [],
   "source": []
  }
 ],
 "metadata": {
  "kernelspec": {
   "display_name": "Python 3 (ipykernel)",
   "language": "python",
   "name": "python3"
  },
  "language_info": {
   "codemirror_mode": {
    "name": "ipython",
    "version": 3
   },
   "file_extension": ".py",
   "mimetype": "text/x-python",
   "name": "python",
   "nbconvert_exporter": "python",
   "pygments_lexer": "ipython3",
   "version": "3.10.0"
  }
 },
 "nbformat": 4,
 "nbformat_minor": 5
}
