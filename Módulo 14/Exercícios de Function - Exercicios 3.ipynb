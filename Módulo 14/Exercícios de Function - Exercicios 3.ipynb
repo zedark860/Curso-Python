{
 "cells": [
  {
   "cell_type": "markdown",
   "metadata": {},
   "source": [
    "# Exercícios\n",
    "\n",
    "### Antes de irmos para o desafio que apresentamos na última aula (que é bem mais complexo do que um exemplo simples) vamos resolver um exercício um pouco mais simples para treinar\n",
    "\n",
    "## 1. Cálculo do Percentual e da Lista de Vendedores\n",
    "\n",
    "- Queremos criar uma function que consiga identificar os vendedores que bateram uma meta, mas além disso, consigo já me dar como resposta o cálculo do % da lista de vendedores que bateu a meta (para eu não precisar calcular manualmente depois)\n",
    "- Essa function deve receber 2 informações como parâmetro: a meta e um dicionário com os vendedores e suas vendas. E me dar 2 respostas: uma lista com o nome dos vendedores que bateram a meta e o % de vendedores que bateu a meta."
   ]
  },
  {
   "cell_type": "code",
   "execution_count": 1,
   "metadata": {},
   "outputs": [],
   "source": [
    "meta = 10000\n",
    "vendas = {\n",
    "    'João': 15000,\n",
    "    'Julia': 27000,\n",
    "    'Marcus': 9900,\n",
    "    'Maria': 3750,\n",
    "    'Ana': 10300,\n",
    "    'Alon': 7870,\n",
    "}"
   ]
  },
  {
   "cell_type": "code",
   "execution_count": 17,
   "metadata": {},
   "outputs": [],
   "source": [
    "#crie sua function aqui\n",
    "def percentual_vendedores(meta_vendedores = meta, dicionario_vendedores = vendas):\n",
    "    bateu_meta = 0\n",
    "    total_vendedores = len(dicionario_vendedores)\n",
    "    lista_bateu_meta = []\n",
    "    for venda in dicionario_vendedores:\n",
    "        if dicionario_vendedores[venda] > meta_vendedores:\n",
    "            lista_bateu_meta.append(venda)\n",
    "            bateu_meta += 1\n",
    "    \n",
    "    percentual = bateu_meta / total_vendedores\n",
    "\n",
    "    return lista_bateu_meta, percentual"
   ]
  },
  {
   "cell_type": "code",
   "execution_count": 18,
   "metadata": {},
   "outputs": [
    {
     "name": "stdout",
     "output_type": "stream",
     "text": [
      "Os vendedores que bateram a meta foram: ['João', 'Julia', 'Ana']\n",
      "O percentual de vendedores que bateram a meta foram: 50%\n"
     ]
    }
   ],
   "source": [
    "#aplique sua function nas informações para ver se está funcionando\n",
    "\n",
    "resultado = percentual_vendedores(meta, vendas)\n",
    "print(f'Os vendedores que bateram a meta foram: {resultado[0]}')\n",
    "print(f'O percentual de vendedores que bateram a meta foram: {resultado[1]:.0%}')"
   ]
  },
  {
   "cell_type": "code",
   "execution_count": 20,
   "metadata": {},
   "outputs": [],
   "source": [
    "def calculo_meta(meta, vendas):\n",
    "    bateram_meta = []\n",
    "    for vendedor in vendas:\n",
    "        if vendas[vendedor] >= meta:\n",
    "            bateram_meta.append(vendedor)\n",
    "    perc_baterammeta = len(bateram_meta) / len(vendas)\n",
    "    return perc_baterammeta, bateram_meta"
   ]
  },
  {
   "cell_type": "code",
   "execution_count": 21,
   "metadata": {},
   "outputs": [
    {
     "name": "stdout",
     "output_type": "stream",
     "text": [
      "(0.5, ['João', 'Julia', 'Ana'])\n"
     ]
    }
   ],
   "source": [
    "print(calculo_meta(meta, vendas))"
   ]
  }
 ],
 "metadata": {
  "kernelspec": {
   "display_name": "Python 3",
   "language": "python",
   "name": "python3"
  },
  "language_info": {
   "codemirror_mode": {
    "name": "ipython",
    "version": 3
   },
   "file_extension": ".py",
   "mimetype": "text/x-python",
   "name": "python",
   "nbconvert_exporter": "python",
   "pygments_lexer": "ipython3",
   "version": "3.10.0"
  }
 },
 "nbformat": 4,
 "nbformat_minor": 4
}
