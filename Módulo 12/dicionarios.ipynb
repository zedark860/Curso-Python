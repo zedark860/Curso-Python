{
 "cells": [
  {
   "cell_type": "markdown",
   "metadata": {},
   "source": [
    "### Exercício 1\n",
    "Crie um sistema de consulta de preços\n",
    "Seu sistema deve:\n",
    "- Pedir para o usuário o nome de um produto\n",
    "- Caso o produto exista na lista de produtos, o programa deve retornar o preço do produto como resposta\n",
    "       - Ex: O produto celular custa R$1500\n",
    "- Caso o produto não exista na lista de produtos, o programa deve printar uma mensagem para o usuário tentar novamente\n"
   ]
  },
  {
   "cell_type": "code",
   "execution_count": 3,
   "metadata": {},
   "outputs": [
    {
     "name": "stdout",
     "output_type": "stream",
     "text": [
      "Os produtos da loja são:\n",
      "celular : 1500\n",
      "camera : 1000\n",
      "fone de ouvido : 800\n",
      "monitor : 2000\n",
      "O produto camera custa R$1000\n"
     ]
    }
   ],
   "source": [
    "precos = {\"celular\": 1500, \"camera\": 1000, \"fone de ouvido\": 800, \"monitor\": 2000}\n",
    "\n",
    "print('Os produtos da loja são:')\n",
    "for produtos in precos:\n",
    "    print(f'{produtos} : {precos[produtos]}')\n",
    "print('\\n')\n",
    "\n",
    "nome_produto = input('Digite o nome do produto: '.lower().strip())\n",
    "if nome_produto in precos:\n",
    "    print(f'O produto {nome_produto} custa R${precos[nome_produto]}')\n",
    "else:\n",
    "    print('O produto não existe na lista, tente novamente')"
   ]
  },
  {
   "cell_type": "markdown",
   "metadata": {},
   "source": [
    "\n",
    "### Exercício 2\n",
    "Agora edite o programa anterior para fazer com que, caso não exista o produto, o programa pergunte se o usuário quer cadastrar o produto\n",
    "<br>Se ele responder sim, o programa deve pedir o nome do produto e o preco do produto e cadastrar no dicionário de preços\n",
    "<br>Em seguida do cadastro bem sucedido, o programa deve printar o dicionário de precos atualizado\n"
   ]
  },
  {
   "cell_type": "code",
   "execution_count": null,
   "metadata": {},
   "outputs": [],
   "source": [
    "precos = {\"celular\": 1500, \"camera\": 1000, \"fone de ouvido\": 800, \"monitor\": 2000}\n",
    "\n",
    "print('Os produtos da loja são:')\n",
    "for produtos in precos:\n",
    "    print(f'{produtos} : {precos[produtos]}')\n",
    "print('\\n')\n",
    "\n",
    "nome_produto = input('Digite o nome do produto: '.lower().strip())\n",
    "if nome_produto in precos:\n",
    "\n",
    "    print(f'O produto {nome_produto} custa R${precos[nome_produto]}')\n",
    "\n",
    "else:\n",
    "\n",
    "    opcao = input(f'O produto {nome_produto} você deseja cadastrá-lo?'.strip().lower())\n",
    "\n",
    "    if opcao == 'sim':\n",
    "        nome_produto = input('Digite o nome do produto: '.lower().strip())\n",
    "        preco_produto = int(input('Digite o preço do produto: '.lower().strip()))\n",
    "\n",
    "        precos[nome_produto] = preco_produto\n",
    "\n",
    "        print(f'A lista de produtos foi atualizada!\\n')\n",
    "        for produtos in precos:\n",
    "            print(f'{produtos} : {precos[produtos]}')\n",
    "    else:\n",
    "        print('Programa encerrado, volte sempre!')"
   ]
  },
  {
   "cell_type": "markdown",
   "metadata": {},
   "source": [
    "### Exercício 3\n",
    "Dada a lista de preços de produtos, uma loja resolveu fazer um reajuste nos preços dos produtos. \n",
    "calcule o novo valor dos produtos com base nas seguintes regras:\n",
    "- Preços até 1.000 vão ter um reajuste de 10% (ou seja, o novo preço será 110% do preço atual)\n",
    "- Preços até maiores que 1.000 até 2.000 vão ter reajuste de 15%\n",
    "- Preços acima de 2.000 vão ter reajuste de 20%"
   ]
  },
  {
   "cell_type": "code",
   "execution_count": 16,
   "metadata": {},
   "outputs": [
    {
     "name": "stdout",
     "output_type": "stream",
     "text": [
      "Os novo preços são {'celular': 1724.9999999999998, 'camera': 1100.0, 'fone de ouvido': 960.0, 'monitor': 3600.0}\n"
     ]
    }
   ],
   "source": [
    "precos = {\"celular\": 1500, \"camera\": 1000, \"fone de ouvido\": 800, \"monitor\": 3000}\n",
    "dicionario_precos = {}\n",
    "\n",
    "for produto, preco in precos.items():\n",
    "    if preco == 1000:\n",
    "        novo_preco = preco * 1.10\n",
    "    elif preco > 1000 and preco <= 2000:\n",
    "        novo_preco = preco * 1.15\n",
    "    else:\n",
    "        novo_preco = preco * 1.20\n",
    "    dicionario_precos[produto] = novo_preco\n",
    "print(f'Os novo preços são {dicionario_precos}')"
   ]
  },
  {
   "cell_type": "markdown",
   "metadata": {},
   "source": [
    "### Exercício 4\n",
    " - Edite o programa antigo para ter os 2 dicionários, o de preços originais e o de novos preços\n",
    " - Em seguida calcule o valor total de reajuste em R$ que teve entre a lista de produtos original e a lista final\n"
   ]
  },
  {
   "cell_type": "code",
   "execution_count": 27,
   "metadata": {},
   "outputs": [
    {
     "name": "stdout",
     "output_type": "stream",
     "text": [
      "O preco antigo era 1500 e o reajuste foi de 224.99999999999977\n",
      "O preco antigo era 1000 e o reajuste foi de 100.0\n",
      "O preco antigo era 800 e o reajuste foi de 160.0\n",
      "O preco antigo era 3000 e o reajuste foi de 600.0\n",
      "\n",
      "\n",
      "Os novo preços são {'celular': 1724.9999999999998, 'camera': 1100.0, 'fone de ouvido': 960.0, 'monitor': 3600.0}\n"
     ]
    }
   ],
   "source": [
    "precos = {\"celular\": 1500, \"camera\": 1000, \"fone de ouvido\": 800, \"monitor\": 3000}\n",
    "dicionario_precos = {}\n",
    "\n",
    "for produto, preco in precos.items():\n",
    "    if preco == 1000:\n",
    "        novo_preco = preco * 1.10\n",
    "    elif preco > 1000 and preco <= 2000:\n",
    "        novo_preco = preco * 1.15\n",
    "    else:\n",
    "        novo_preco = preco * 1.20\n",
    "    dicionario_precos[produto] = novo_preco\n",
    "\n",
    "for produto, novo_preco in dicionario_precos.items():\n",
    "    valor_reajuste = novo_preco - precos[produto]\n",
    "    print(f'O preco antigo era {precos[produto]} e o reajuste foi de {valor_reajuste}')\n",
    "\n",
    "print('\\n')\n",
    "print(f'Os novo preços são {dicionario_precos}')\n"
   ]
  },
  {
   "cell_type": "markdown",
   "metadata": {},
   "source": [
    "\n",
    "### Exercício 5\n",
    "- Uma empresa está analisando os resultados de vendas do 1º semestre de 2022 e 2023\n",
    "- Qual foi o % de crescimento de cada mês de 2023 em relação a 2022?\n",
    "- Depois de calcular isso, calcule o valor total de crescimento de 2023 em relação a 2022"
   ]
  },
  {
   "cell_type": "code",
   "execution_count": 47,
   "metadata": {},
   "outputs": [
    {
     "name": "stdout",
     "output_type": "stream",
     "text": [
      "O precentual de crescimento a cada mês foi de jan : 13%\n",
      "E o crescimento total para o mês de jan foi 2000\n",
      "\n",
      "O precentual de crescimento a cada mês foi de fev : -3%\n",
      "E o crescimento total para o mês de fev foi -500\n",
      "\n",
      "O precentual de crescimento a cada mês foi de mar : 25%\n",
      "E o crescimento total para o mês de mar foi 3500\n",
      "\n",
      "O precentual de crescimento a cada mês foi de abr : 2%\n",
      "E o crescimento total para o mês de abr foi 300\n",
      "\n",
      "O precentual de crescimento a cada mês foi de mai : -2%\n",
      "E o crescimento total para o mês de mai foi -300\n",
      "\n",
      "O precentual de crescimento a cada mês foi de jun : 9%\n",
      "E o crescimento total para o mês de jun foi 1500\n",
      "\n",
      "Já o crescimento da soma de todos os meses de 2022 para 2023 foi de 6500\n"
     ]
    }
   ],
   "source": [
    "vendas_22 = {\"jan\": 15000, \"fev\": 15500, \"mar\": 14000, \"abr\": 16600, \"mai\": 16300, \"jun\": 17000}\n",
    "vendas_23 = {\"jan\": 17000, \"fev\": 15000, \"mar\": 17500, \"abr\": 16900, \"mai\": 16000, \"jun\": 18500}\n",
    "dicionario_porcentagem = {}\n",
    "crescimento_total2022 = 0\n",
    "crescimento_total2023 = 0\n",
    "\n",
    "for mes in vendas_22:\n",
    "    crescimento_porcentagem = (vendas_23[mes] - vendas_22[mes])/ vendas_22[mes] * 100\n",
    "    dicionario_porcentagem[mes] = crescimento_porcentagem\n",
    "\n",
    "    print(f'O precentual de crescimento a cada mês foi de {mes} : {dicionario_porcentagem[mes]:.0f}%')\n",
    "    print(f'E o crescimento total para o mês de {mes} foi {vendas_23[mes] - vendas_22[mes]}\\n')\n",
    "\n",
    "    crescimento_total2022 += vendas_22[mes]\n",
    "    crescimento_total2023 += vendas_23[mes]\n",
    "\n",
    "print(f'Já o crescimento da soma de todos os meses de 2022 para 2023 foi de {crescimento_total2023 - crescimento_total2022}')\n"
   ]
  },
  {
   "cell_type": "markdown",
   "metadata": {},
   "source": [
    "### Exercício 6 - Desafio\n",
    "- No final da reunião de apresentação dos números, seu chefe perguntou:\n",
    "- E se nos meses de 2023 que a gente vendeu menos do que 2022 a gente tivesse pelo menos empatado com 2022 (ou seja, se nos meses de 2023 em que as vendas foram menores do que o mesmo mês em 2022, o valor de vendas tivesse sido igual a 2022)\n",
    "- Qual teria sido o nosso crescimento de 2023 frente a 2022?"
   ]
  },
  {
   "cell_type": "code",
   "execution_count": 50,
   "metadata": {},
   "outputs": [
    {
     "name": "stdout",
     "output_type": "stream",
     "text": [
      "O precentual de crescimento a cada mês foi de jan : 13%\n",
      "E o crescimento total para o mês de jan foi 2000\n",
      "\n",
      "O precentual de crescimento a cada mês foi de fev : 0%\n",
      "E o crescimento total para o mês de fev foi 0\n",
      "\n",
      "O precentual de crescimento a cada mês foi de mar : 25%\n",
      "E o crescimento total para o mês de mar foi 3500\n",
      "\n",
      "O precentual de crescimento a cada mês foi de abr : 2%\n",
      "E o crescimento total para o mês de abr foi 300\n",
      "\n",
      "O precentual de crescimento a cada mês foi de mai : 0%\n",
      "E o crescimento total para o mês de mai foi 0\n",
      "\n",
      "O precentual de crescimento a cada mês foi de jun : 9%\n",
      "E o crescimento total para o mês de jun foi 1500\n",
      "\n",
      "Já o crescimento da soma de todos os meses de 2022 para 2023 foi de 7300\n"
     ]
    }
   ],
   "source": [
    "vendas_22 = {\"jan\": 15000, \"fev\": 15500, \"mar\": 14000, \"abr\": 16600, \"mai\": 16300, \"jun\": 17000}\n",
    "vendas_23 = {\"jan\": 17000, \"fev\": 15000, \"mar\": 17500, \"abr\": 16900, \"mai\": 16000, \"jun\": 18500}\n",
    "dicionario_porcentagem = {}\n",
    "crescimento_total2022 = 0\n",
    "crescimento_total2023 = 0\n",
    "\n",
    "for mes in vendas_22:\n",
    "    if vendas_23[mes] < vendas_22[mes]:\n",
    "        vendas_23[mes] = vendas_22[mes]\n",
    "\n",
    "    crescimento_porcentagem = (vendas_23[mes] - vendas_22[mes])/ vendas_22[mes] * 100\n",
    "    dicionario_porcentagem[mes] = crescimento_porcentagem\n",
    "\n",
    "    print(f'O precentual de crescimento a cada mês foi de {mes} : {dicionario_porcentagem[mes]:.0f}%')\n",
    "    print(f'E o crescimento total para o mês de {mes} foi {vendas_23[mes] - vendas_22[mes]}\\n')\n",
    "\n",
    "    crescimento_total2022 += vendas_22[mes]\n",
    "    crescimento_total2023 += vendas_23[mes]\n",
    "\n",
    "print(f'Já o crescimento da soma de todos os meses de 2022 para 2023 foi de {crescimento_total2023 - crescimento_total2022}')"
   ]
  },
  {
   "cell_type": "code",
   "execution_count": 51,
   "metadata": {},
   "outputs": [
    {
     "name": "stdout",
     "output_type": "stream",
     "text": [
      "O percentual de crescimento a cada mês foi de jan: 13%\n",
      "E o crescimento total para o mês de jan foi 2000\n",
      "\n",
      "O percentual de crescimento a cada mês foi de fev: 0%\n",
      "E o crescimento total para o mês de fev foi 0\n",
      "\n",
      "O percentual de crescimento a cada mês foi de mar: 25%\n",
      "E o crescimento total para o mês de mar foi 3500\n",
      "\n",
      "O percentual de crescimento a cada mês foi de abr: 2%\n",
      "E o crescimento total para o mês de abr foi 300\n",
      "\n",
      "O percentual de crescimento a cada mês foi de mai: 0%\n",
      "E o crescimento total para o mês de mai foi 0\n",
      "\n",
      "O percentual de crescimento a cada mês foi de jun: 9%\n",
      "E o crescimento total para o mês de jun foi 1500\n",
      "\n",
      "O crescimento da soma de todos os meses de 2022 para 2023, considerando ajustes, foi de 7300\n"
     ]
    }
   ],
   "source": [
    "vendas_22 = {\"jan\": 15000, \"fev\": 15500, \"mar\": 14000, \"abr\": 16600, \"mai\": 16300, \"jun\": 17000}\n",
    "vendas_23 = {\"jan\": 17000, \"fev\": 15000, \"mar\": 17500, \"abr\": 16900, \"mai\": 16000, \"jun\": 18500}\n",
    "\n",
    "crescimento_total_2022 = sum(vendas_22.values())\n",
    "crescimento_total_2023 = sum(vendas_23.values())\n",
    "\n",
    "for mes in vendas_22:\n",
    "    if vendas_23[mes] < vendas_22[mes]:\n",
    "        vendas_23[mes] = vendas_22[mes]\n",
    "    \n",
    "    crescimento_porcentagem = (vendas_23[mes] - vendas_22[mes]) / vendas_22[mes] * 100\n",
    "\n",
    "    print(f'O percentual de crescimento a cada mês foi de {mes}: {crescimento_porcentagem:.0f}%')\n",
    "    print(f'E o crescimento total para o mês de {mes} foi {vendas_23[mes] - vendas_22[mes]}\\n')\n",
    "\n",
    "crescimento_total_2023 = sum(vendas_23.values())\n",
    "crescimento_total = crescimento_total_2023 - crescimento_total_2022\n",
    "\n",
    "print(f'O crescimento da soma de todos os meses de 2022 para 2023, considerando ajustes, foi de {crescimento_total}')\n"
   ]
  }
 ],
 "metadata": {
  "kernelspec": {
   "display_name": "Python 3",
   "language": "python",
   "name": "python3"
  },
  "language_info": {
   "codemirror_mode": {
    "name": "ipython",
    "version": 3
   },
   "file_extension": ".py",
   "mimetype": "text/x-python",
   "name": "python",
   "nbconvert_exporter": "python",
   "pygments_lexer": "ipython3",
   "version": "3.10.0"
  }
 },
 "nbformat": 4,
 "nbformat_minor": 2
}
