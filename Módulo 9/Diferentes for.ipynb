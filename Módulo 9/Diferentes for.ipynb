{
 "cells": [
  {
   "cell_type": "code",
   "execution_count": 1,
   "id": "f384c181",
   "metadata": {},
   "outputs": [],
   "source": [
    "produtos = [\"iphone\", \"ipad\", \"airpod\", \"macbook\"]\n",
    "precos = [7000, 10000, 2500, 14000]"
   ]
  },
  {
   "cell_type": "markdown",
   "id": "ed0a699c",
   "metadata": {},
   "source": [
    "### For item in lista"
   ]
  },
  {
   "cell_type": "code",
   "execution_count": 2,
   "id": "3053355f",
   "metadata": {},
   "outputs": [
    {
     "name": "stdout",
     "output_type": "stream",
     "text": [
      "7700.000000000001\n",
      "11000.0\n",
      "2750.0\n",
      "15400.000000000002\n"
     ]
    }
   ],
   "source": [
    "# preco com imposto (Lista simples)\n",
    "for preco in precos:\n",
    "    print(preco * 1.1)"
   ]
  },
  {
   "cell_type": "markdown",
   "id": "80aa8d07",
   "metadata": {},
   "source": [
    "### For i in range"
   ]
  },
  {
   "cell_type": "code",
   "execution_count": 3,
   "id": "74b8e12d",
   "metadata": {},
   "outputs": [
    {
     "name": "stdout",
     "output_type": "stream",
     "text": [
      "iphone 7000\n",
      "ipad 10000\n",
      "airpod 2500\n",
      "macbook 14000\n"
     ]
    }
   ],
   "source": [
    "# preco de cada produto (Duas ou mais listas)\n",
    "for i in range(len(precos)):\n",
    "    produto = produtos[i]\n",
    "    preco = precos[i]\n",
    "    print(produto, preco)"
   ]
  },
  {
   "cell_type": "markdown",
   "id": "ba0b37d3",
   "metadata": {},
   "source": [
    "### For item in lista com enumerate"
   ]
  },
  {
   "cell_type": "code",
   "execution_count": 4,
   "id": "38271545",
   "metadata": {},
   "outputs": [
    {
     "name": "stdout",
     "output_type": "stream",
     "text": [
      "iphone 7700.000000000001\n",
      "ipad 11000.0\n",
      "airpod 2750.0\n",
      "macbook 15400.000000000002\n"
     ]
    }
   ],
   "source": [
    "# preco de cada produto com imposto (Duas ou mais listas)\n",
    "# Tanto faz utilizar o for i in range ou for item in lista com enumerate\n",
    "for i, preco in enumerate(precos):\n",
    "    preco *= 1.1\n",
    "    produto = produtos[i]\n",
    "    print(produto, preco)"
   ]
  }
 ],
 "metadata": {
  "kernelspec": {
   "display_name": "Python 3 (ipykernel)",
   "language": "python",
   "name": "python3"
  },
  "language_info": {
   "codemirror_mode": {
    "name": "ipython",
    "version": 3
   },
   "file_extension": ".py",
   "mimetype": "text/x-python",
   "name": "python",
   "nbconvert_exporter": "python",
   "pygments_lexer": "ipython3",
   "version": "3.10.0"
  }
 },
 "nbformat": 4,
 "nbformat_minor": 5
}
