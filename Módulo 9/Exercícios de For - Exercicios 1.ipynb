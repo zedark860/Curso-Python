{
 "cells": [
  {
   "cell_type": "markdown",
   "metadata": {},
   "source": [
    "# Exercícios\n",
    "\n",
    "## 1. Criando um Registro de Hóspedes\n",
    "\n",
    "Digamos que você está criando o sistema para registrar a chegada de hóspedes em um hotel. No hotel, os hóspedes podem ter quartos com 1, 2, 3 e 4 pessoas. Seu sistema deve conseguir:\n",
    "\n",
    "1. Identificar quantas pessoas o hóspede que acabou de chegar vai ter no quarto (perguntando por meio de input)\n",
    "2. De acordo com a quantidade de pessoas do hóspede, ele deve fazer um for para perguntar o cpf e o nome de cada pessoa, a fim de registrá-la no quarto (2 inputs para cada pessoa, 1 para o cpf e outro para o nome)\n",
    "3. O seu programa então deve gerar uma lista com todas as pessoas que ficarão no quarto em que cada item dessa lista é o nome da pessoa e o cpf da pessoa, assim:"
   ]
  },
  {
   "cell_type": "raw",
   "metadata": {},
   "source": [
    "quarto = [\n",
    "    ['João', 'cpf:00000000000'],\n",
    "    ['Julia', 'cpf:11111111111'],\n",
    "    ['Marcus', 'cpf:22222222222'],\n",
    "    ['Maria', 'cpf:33333333333'],\n",
    "]"
   ]
  },
  {
   "cell_type": "markdown",
   "metadata": {},
   "source": [
    "- Para simplificar, não vamos nos preocupar com possibilidades de \"tentar colocar mais de 1 hóspede, digitar o cpf errado, etc. Nosso objetivo é treinar a criação de uma rotina de cadastro"
   ]
  },
  {
   "cell_type": "code",
   "execution_count": null,
   "metadata": {},
   "outputs": [],
   "source": [
    "def validacao_cpf(cpf):\n",
    "    cpf = cpf.replace('.','').replace('-','')\n",
    "    return len(cpf) == 11 and cpf.isnumeric()\n",
    "\n",
    "while True:\n",
    "    try:\n",
    "        qt_pessoas = int(input('Quantas pessoas terão no quarto? ').strip())\n",
    "        if qt_pessoas > 0:\n",
    "            break\n",
    "        else:\n",
    "            print('Você não digitou nenhum valor maior que 0, digite novamente!')\n",
    "    except ValueError:\n",
    "        print('Por favor digite um valor númerico válido.')\n",
    "\n",
    "quarto = []\n",
    "\n",
    "for i in range(qt_pessoas):\n",
    "    nome = str(input('Qual o nome? ').strip())\n",
    "    while True:\n",
    "        cpf = input('Qual seu cpf? ').strip()\n",
    "        if validacao_cpf(cpf):\n",
    "            break\n",
    "        else:\n",
    "            print('O cpf não tem 11 números digite novamente!')\n",
    "    hospede = [nome, f'cpf: {cpf}']   \n",
    "    quarto.append(hospede)\n",
    "\n",
    "print(f'Aqui está a quantidade de pessoas que ficará no quarto {qt_pessoas}\\n')\n",
    "print('Logo abaixo a lista de pessoas:\\n')\n",
    "for pessoa in quarto:\n",
    "    print(pessoa)"
   ]
  },
  {
   "cell_type": "code",
   "execution_count": null,
   "metadata": {},
   "outputs": [],
   "source": [
    "qt_pessoas = int(input('Quantas pessoas terão no quarto? '))\n",
    "quarto = []\n",
    "\n",
    "for i in range(qt_pessoas):\n",
    "    nome = input('Qual o nome?')\n",
    "    cpf = input('Qual o cpf?')\n",
    "    hospede = [nome, f'cpf: {cpf}']\n",
    "    quarto.append(hospede)\n",
    "\n",
    "print(quarto)"
   ]
  },
  {
   "cell_type": "markdown",
   "metadata": {},
   "source": [
    "## 2. Análise de Vendas\n",
    "\n",
    "Nesse exercício vamos fazer uma \"análise simples\" de atingimento de Meta.\n",
    "\n",
    "Temos uma lista com os vendedores e os valores de vendas e queremos identificar (printar) quais os vendedores que bateram a meta e qual foi o valor que eles venderam."
   ]
  },
  {
   "cell_type": "code",
   "execution_count": 7,
   "metadata": {},
   "outputs": [
    {
     "name": "stdout",
     "output_type": "stream",
     "text": [
      "Você conseguiu bater a meta, parabéns!\n",
      "João\n",
      "Você conseguiu bater a meta, parabéns!\n",
      "Julia\n",
      "Infelizmente vocês não conseguiram bater a meta Marcus\n",
      "Infelizmente vocês não conseguiram bater a meta Maria\n",
      "Você conseguiu bater a meta, parabéns!\n",
      "Ana\n",
      "Infelizmente vocês não conseguiram bater a meta Alon\n"
     ]
    }
   ],
   "source": [
    "meta = 10000\n",
    "vendas = [\n",
    "    ['João', 15000],\n",
    "    ['Julia', 27000],\n",
    "    ['Marcus', 9900],\n",
    "    ['Maria', 3750],\n",
    "    ['Ana', 10300],\n",
    "    ['Alon', 7870],\n",
    "]\n",
    "\n",
    "for venda in vendas:\n",
    "    if venda[1] >= meta:\n",
    "        print(f'Você conseguiu bater a meta, parabéns!\\n{venda[0]}')\n",
    "    else:\n",
    "        print(f'Infelizmente vocês não conseguiram bater a meta {venda[0]}')"
   ]
  },
  {
   "cell_type": "markdown",
   "metadata": {},
   "source": [
    "## 3. Comparação com Ano Anterior\n",
    "\n",
    "Digamos que você está analisando as vendas de produtos de um ecommerce e quer identificar quais produtos tiveram no ano de 2020 mais vendas do que no ano de 2019, para reportar isso para a diretoria.\n",
    "\n",
    "Sua resposta pode ser um print de cada produto, qual foi a venda de 2019, a venda de 2020 e o % de crescimento de 2020 para 2019.\n",
    "\n",
    "Lembrando, para calcular o % de crescimento de um produto de um ano para o outro, podemos fazer: (vendas_produto2020/vendas_produto2019 - 1)\n",
    "\n",
    "Dica: lembre do enumerate, ele pode facilitar seu \"for\""
   ]
  },
  {
   "cell_type": "code",
   "execution_count": 13,
   "metadata": {},
   "outputs": [
    {
     "name": "stdout",
     "output_type": "stream",
     "text": [
      "Iphone vendeu R$558,147, R$951,642 em 2020 e teve 70.5% crescimento\n",
      "\n",
      "Tv vendeu R$405,252, R$787,604 em 2020 e teve 94.3% crescimento\n",
      "\n",
      "Máquina de café vendeu R$718,654, R$867,660 em 2020 e teve 20.7% crescimento\n",
      "\n",
      "Notebook dell vendeu R$422,760, R$694,913 em 2020 e teve 64.4% crescimento\n",
      "\n",
      "Notebook hp vendeu R$154,753, R$539,704 em 2020 e teve 248.8% crescimento\n",
      "\n",
      "Microsoft surface vendeu R$438,508, R$667,179 em 2020 e teve 52.1% crescimento\n",
      "\n",
      "Webcam vendeu R$237,467, R$295,633 em 2020 e teve 24.5% crescimento\n",
      "\n",
      "Caixa de som vendeu R$489,705, R$725,316 em 2020 e teve 48.1% crescimento\n",
      "\n",
      "Microfone vendeu R$328,311, R$644,622 em 2020 e teve 96.3% crescimento\n",
      "\n",
      "Câmera canon vendeu R$591,120, R$994,303 em 2020 e teve 68.2% crescimento\n",
      "\n"
     ]
    }
   ],
   "source": [
    "produtos = ['iphone', 'galaxy', 'ipad', 'tv', 'máquina de café', 'kindle', 'geladeira', 'adega', 'notebook dell', 'notebook hp', 'notebook asus', 'microsoft surface', 'webcam', 'caixa de som', 'microfone', 'câmera canon']\n",
    "vendas2019 = [558147,712350,573823,405252,718654,531580,973139,892292,422760,154753,887061,438508,237467,489705,328311,591120]\n",
    "vendas2020 = [951642,244295,26964,787604,867660,78830,710331,646016,694913,539704,324831,667179,295633,725316,644622,994303]\n",
    "#seu código aqui\n",
    "\n",
    "for i, produto in enumerate(produtos):\n",
    "    if vendas2020[i] > vendas2019[i]:\n",
    "        crescimento = vendas2020[i]/vendas2019[i] - 1\n",
    "        print(f'{produto.capitalize()} vendeu R${vendas2019[i]:,}, R${vendas2020[i]:,} em 2020 e teve {crescimento:.1%} crescimento\\n')"
   ]
  }
 ],
 "metadata": {
  "kernelspec": {
   "display_name": "Python 3",
   "language": "python",
   "name": "python3"
  },
  "language_info": {
   "codemirror_mode": {
    "name": "ipython",
    "version": 3
   },
   "file_extension": ".py",
   "mimetype": "text/x-python",
   "name": "python",
   "nbconvert_exporter": "python",
   "pygments_lexer": "ipython3",
   "version": "3.10.0"
  }
 },
 "nbformat": 4,
 "nbformat_minor": 4
}
